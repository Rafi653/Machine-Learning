{
  "cells": [
    {
      "cell_type": "markdown",
      "metadata": {
        "id": "view-in-github",
        "colab_type": "text"
      },
      "source": [
        "<a href=\"https://colab.research.google.com/github/Rafi653/Machine-Learning/blob/feature%2Flab_assignment-1.1/ML_LinearRegression.ipynb\" target=\"_parent\"><img src=\"https://colab.research.google.com/assets/colab-badge.svg\" alt=\"Open In Colab\"/></a>"
      ]
    },
    {
      "cell_type": "code",
      "execution_count": null,
      "id": "31a47366-87ef-4f40-ad62-6b70aaf45a9c",
      "metadata": {
        "id": "31a47366-87ef-4f40-ad62-6b70aaf45a9c"
      },
      "outputs": [],
      "source": [
        "## Linear Regression"
      ]
    },
    {
      "cell_type": "code",
      "execution_count": 2,
      "id": "b4a24af4-87a2-40a7-a974-ec39d840e52d",
      "metadata": {
        "id": "b4a24af4-87a2-40a7-a974-ec39d840e52d"
      },
      "outputs": [],
      "source": [
        "import pandas as pd\n",
        "import numpy as np\n",
        "import math\n",
        "from tqdm import tqdm\n",
        "from sklearn.model_selection import train_test_split\n",
        "import random\n",
        "import matplotlib.pyplot as plt\n",
        "from random import sample"
      ]
    },
    {
      "cell_type": "code",
      "execution_count": 3,
      "id": "b1ec6122-3776-48dc-aa0a-6d2a0be38b74",
      "metadata": {
        "id": "b1ec6122-3776-48dc-aa0a-6d2a0be38b74",
        "colab": {
          "resources": {
            "http://localhost:8080/nbextensions/google.colab/files.js": {
              "data": "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",
              "ok": true,
              "headers": [
                [
                  "content-type",
                  "application/javascript"
                ]
              ],
              "status": 200,
              "status_text": ""
            }
          },
          "base_uri": "https://localhost:8080/",
          "height": 144
        },
        "outputId": "18c0d0d3-79ea-40ac-c29c-f836a9c1780b"
      },
      "outputs": [
        {
          "output_type": "display_data",
          "data": {
            "text/html": [
              "\n",
              "     <input type=\"file\" id=\"files-472ea199-eab8-4369-a81a-c62117b13fa8\" name=\"files[]\" multiple disabled\n",
              "        style=\"border:none\" />\n",
              "     <output id=\"result-472ea199-eab8-4369-a81a-c62117b13fa8\">\n",
              "      Upload widget is only available when the cell has been executed in the\n",
              "      current browser session. Please rerun this cell to enable.\n",
              "      </output>\n",
              "      <script src=\"/nbextensions/google.colab/files.js\"></script> "
            ],
            "text/plain": [
              "<IPython.core.display.HTML object>"
            ]
          },
          "metadata": {}
        },
        {
          "output_type": "stream",
          "name": "stdout",
          "text": [
            "Saving concreteData.csv to concreteData.csv\n",
            "Saving housing.csv to housing.csv\n",
            "Saving yachtData.csv to yachtData.csv\n"
          ]
        }
      ],
      "source": [
        "from google.colab import files\n",
        "file = files.upload()  #upload file into google colab session\n",
        "\n",
        "housing_df= pd.read_csv('housing.csv', header=None)\n",
        "\n",
        "concrete_df= pd.read_csv('concreteData.csv', header=None)\n",
        "\n",
        "yatch_df= pd.read_csv('yachtData.csv', header=None)"
      ]
    },
    {
      "cell_type": "code",
      "source": [
        "housing_df.head()"
      ],
      "metadata": {
        "colab": {
          "base_uri": "https://localhost:8080/",
          "height": 206
        },
        "id": "zN_kMHzHWkgm",
        "outputId": "b459844b-393a-4040-ca44-bd370c767856"
      },
      "id": "zN_kMHzHWkgm",
      "execution_count": 8,
      "outputs": [
        {
          "output_type": "execute_result",
          "data": {
            "text/html": [
              "\n",
              "  <div id=\"df-089d68c5-ea0a-4b89-b4b9-3a5f0bedbfcd\">\n",
              "    <div class=\"colab-df-container\">\n",
              "      <div>\n",
              "<style scoped>\n",
              "    .dataframe tbody tr th:only-of-type {\n",
              "        vertical-align: middle;\n",
              "    }\n",
              "\n",
              "    .dataframe tbody tr th {\n",
              "        vertical-align: top;\n",
              "    }\n",
              "\n",
              "    .dataframe thead th {\n",
              "        text-align: right;\n",
              "    }\n",
              "</style>\n",
              "<table border=\"1\" class=\"dataframe\">\n",
              "  <thead>\n",
              "    <tr style=\"text-align: right;\">\n",
              "      <th></th>\n",
              "      <th>0</th>\n",
              "      <th>1</th>\n",
              "      <th>2</th>\n",
              "      <th>3</th>\n",
              "      <th>4</th>\n",
              "      <th>5</th>\n",
              "      <th>6</th>\n",
              "      <th>7</th>\n",
              "      <th>8</th>\n",
              "      <th>9</th>\n",
              "      <th>10</th>\n",
              "      <th>11</th>\n",
              "      <th>12</th>\n",
              "      <th>13</th>\n",
              "    </tr>\n",
              "  </thead>\n",
              "  <tbody>\n",
              "    <tr>\n",
              "      <th>0</th>\n",
              "      <td>0.00632</td>\n",
              "      <td>18.0</td>\n",
              "      <td>2.31</td>\n",
              "      <td>0</td>\n",
              "      <td>0.538</td>\n",
              "      <td>6.575</td>\n",
              "      <td>65.2</td>\n",
              "      <td>4.0900</td>\n",
              "      <td>1</td>\n",
              "      <td>296</td>\n",
              "      <td>15.3</td>\n",
              "      <td>396.90</td>\n",
              "      <td>4.98</td>\n",
              "      <td>24.0</td>\n",
              "    </tr>\n",
              "    <tr>\n",
              "      <th>1</th>\n",
              "      <td>0.02731</td>\n",
              "      <td>0.0</td>\n",
              "      <td>7.07</td>\n",
              "      <td>0</td>\n",
              "      <td>0.469</td>\n",
              "      <td>6.421</td>\n",
              "      <td>78.9</td>\n",
              "      <td>4.9671</td>\n",
              "      <td>2</td>\n",
              "      <td>242</td>\n",
              "      <td>17.8</td>\n",
              "      <td>396.90</td>\n",
              "      <td>9.14</td>\n",
              "      <td>21.6</td>\n",
              "    </tr>\n",
              "    <tr>\n",
              "      <th>2</th>\n",
              "      <td>0.02729</td>\n",
              "      <td>0.0</td>\n",
              "      <td>7.07</td>\n",
              "      <td>0</td>\n",
              "      <td>0.469</td>\n",
              "      <td>7.185</td>\n",
              "      <td>61.1</td>\n",
              "      <td>4.9671</td>\n",
              "      <td>2</td>\n",
              "      <td>242</td>\n",
              "      <td>17.8</td>\n",
              "      <td>392.83</td>\n",
              "      <td>4.03</td>\n",
              "      <td>34.7</td>\n",
              "    </tr>\n",
              "    <tr>\n",
              "      <th>3</th>\n",
              "      <td>0.03237</td>\n",
              "      <td>0.0</td>\n",
              "      <td>2.18</td>\n",
              "      <td>0</td>\n",
              "      <td>0.458</td>\n",
              "      <td>6.998</td>\n",
              "      <td>45.8</td>\n",
              "      <td>6.0622</td>\n",
              "      <td>3</td>\n",
              "      <td>222</td>\n",
              "      <td>18.7</td>\n",
              "      <td>394.63</td>\n",
              "      <td>2.94</td>\n",
              "      <td>33.4</td>\n",
              "    </tr>\n",
              "    <tr>\n",
              "      <th>4</th>\n",
              "      <td>0.06905</td>\n",
              "      <td>0.0</td>\n",
              "      <td>2.18</td>\n",
              "      <td>0</td>\n",
              "      <td>0.458</td>\n",
              "      <td>7.147</td>\n",
              "      <td>54.2</td>\n",
              "      <td>6.0622</td>\n",
              "      <td>3</td>\n",
              "      <td>222</td>\n",
              "      <td>18.7</td>\n",
              "      <td>396.90</td>\n",
              "      <td>5.33</td>\n",
              "      <td>36.2</td>\n",
              "    </tr>\n",
              "  </tbody>\n",
              "</table>\n",
              "</div>\n",
              "      <button class=\"colab-df-convert\" onclick=\"convertToInteractive('df-089d68c5-ea0a-4b89-b4b9-3a5f0bedbfcd')\"\n",
              "              title=\"Convert this dataframe to an interactive table.\"\n",
              "              style=\"display:none;\">\n",
              "        \n",
              "  <svg xmlns=\"http://www.w3.org/2000/svg\" height=\"24px\"viewBox=\"0 0 24 24\"\n",
              "       width=\"24px\">\n",
              "    <path d=\"M0 0h24v24H0V0z\" fill=\"none\"/>\n",
              "    <path d=\"M18.56 5.44l.94 2.06.94-2.06 2.06-.94-2.06-.94-.94-2.06-.94 2.06-2.06.94zm-11 1L8.5 8.5l.94-2.06 2.06-.94-2.06-.94L8.5 2.5l-.94 2.06-2.06.94zm10 10l.94 2.06.94-2.06 2.06-.94-2.06-.94-.94-2.06-.94 2.06-2.06.94z\"/><path d=\"M17.41 7.96l-1.37-1.37c-.4-.4-.92-.59-1.43-.59-.52 0-1.04.2-1.43.59L10.3 9.45l-7.72 7.72c-.78.78-.78 2.05 0 2.83L4 21.41c.39.39.9.59 1.41.59.51 0 1.02-.2 1.41-.59l7.78-7.78 2.81-2.81c.8-.78.8-2.07 0-2.86zM5.41 20L4 18.59l7.72-7.72 1.47 1.35L5.41 20z\"/>\n",
              "  </svg>\n",
              "      </button>\n",
              "      \n",
              "  <style>\n",
              "    .colab-df-container {\n",
              "      display:flex;\n",
              "      flex-wrap:wrap;\n",
              "      gap: 12px;\n",
              "    }\n",
              "\n",
              "    .colab-df-convert {\n",
              "      background-color: #E8F0FE;\n",
              "      border: none;\n",
              "      border-radius: 50%;\n",
              "      cursor: pointer;\n",
              "      display: none;\n",
              "      fill: #1967D2;\n",
              "      height: 32px;\n",
              "      padding: 0 0 0 0;\n",
              "      width: 32px;\n",
              "    }\n",
              "\n",
              "    .colab-df-convert:hover {\n",
              "      background-color: #E2EBFA;\n",
              "      box-shadow: 0px 1px 2px rgba(60, 64, 67, 0.3), 0px 1px 3px 1px rgba(60, 64, 67, 0.15);\n",
              "      fill: #174EA6;\n",
              "    }\n",
              "\n",
              "    [theme=dark] .colab-df-convert {\n",
              "      background-color: #3B4455;\n",
              "      fill: #D2E3FC;\n",
              "    }\n",
              "\n",
              "    [theme=dark] .colab-df-convert:hover {\n",
              "      background-color: #434B5C;\n",
              "      box-shadow: 0px 1px 3px 1px rgba(0, 0, 0, 0.15);\n",
              "      filter: drop-shadow(0px 1px 2px rgba(0, 0, 0, 0.3));\n",
              "      fill: #FFFFFF;\n",
              "    }\n",
              "  </style>\n",
              "\n",
              "      <script>\n",
              "        const buttonEl =\n",
              "          document.querySelector('#df-089d68c5-ea0a-4b89-b4b9-3a5f0bedbfcd button.colab-df-convert');\n",
              "        buttonEl.style.display =\n",
              "          google.colab.kernel.accessAllowed ? 'block' : 'none';\n",
              "\n",
              "        async function convertToInteractive(key) {\n",
              "          const element = document.querySelector('#df-089d68c5-ea0a-4b89-b4b9-3a5f0bedbfcd');\n",
              "          const dataTable =\n",
              "            await google.colab.kernel.invokeFunction('convertToInteractive',\n",
              "                                                     [key], {});\n",
              "          if (!dataTable) return;\n",
              "\n",
              "          const docLinkHtml = 'Like what you see? Visit the ' +\n",
              "            '<a target=\"_blank\" href=https://colab.research.google.com/notebooks/data_table.ipynb>data table notebook</a>'\n",
              "            + ' to learn more about interactive tables.';\n",
              "          element.innerHTML = '';\n",
              "          dataTable['output_type'] = 'display_data';\n",
              "          await google.colab.output.renderOutput(dataTable, element);\n",
              "          const docLink = document.createElement('div');\n",
              "          docLink.innerHTML = docLinkHtml;\n",
              "          element.appendChild(docLink);\n",
              "        }\n",
              "      </script>\n",
              "    </div>\n",
              "  </div>\n",
              "  "
            ],
            "text/plain": [
              "        0     1     2   3      4      5     6       7   8    9     10      11  \\\n",
              "0  0.00632  18.0  2.31   0  0.538  6.575  65.2  4.0900   1  296  15.3  396.90   \n",
              "1  0.02731   0.0  7.07   0  0.469  6.421  78.9  4.9671   2  242  17.8  396.90   \n",
              "2  0.02729   0.0  7.07   0  0.469  7.185  61.1  4.9671   2  242  17.8  392.83   \n",
              "3  0.03237   0.0  2.18   0  0.458  6.998  45.8  6.0622   3  222  18.7  394.63   \n",
              "4  0.06905   0.0  2.18   0  0.458  7.147  54.2  6.0622   3  222  18.7  396.90   \n",
              "\n",
              "     12    13  \n",
              "0  4.98  24.0  \n",
              "1  9.14  21.6  \n",
              "2  4.03  34.7  \n",
              "3  2.94  33.4  \n",
              "4  5.33  36.2  "
            ]
          },
          "metadata": {},
          "execution_count": 8
        }
      ]
    },
    {
      "cell_type": "code",
      "source": [
        "concrete_df.head()"
      ],
      "metadata": {
        "id": "w-SqGKtVWrGw"
      },
      "id": "w-SqGKtVWrGw",
      "execution_count": null,
      "outputs": []
    },
    {
      "cell_type": "code",
      "source": [
        "yatch_df.head()"
      ],
      "metadata": {
        "id": "5AViCWv4WtQB"
      },
      "id": "5AViCWv4WtQB",
      "execution_count": null,
      "outputs": []
    },
    {
      "cell_type": "code",
      "execution_count": 21,
      "id": "0c1f786e-ebc8-4451-9eb0-7e0a67ca9daf",
      "metadata": {
        "id": "0c1f786e-ebc8-4451-9eb0-7e0a67ca9daf"
      },
      "outputs": [],
      "source": [
        "\n",
        "class LinearRegression:\n",
        "    def __init__(self,\n",
        "                 X,\n",
        "                 y, learningRate,\n",
        "                 tolerance,\n",
        "                 maxIteration,\n",
        "                 gd=False,\n",
        "                 stochastic=False,\n",
        "                 reg=False,\n",
        "                 batch_size=100,\n",
        "                 alpha=1.0) -> None:\n",
        "        self.X = X\n",
        "        self.y = y\n",
        "        self.tolerance = tolerance\n",
        "        self.learningRate = learningRate\n",
        "        self.maxIteration = maxIteration\n",
        "        self.gd = gd\n",
        "        self.stochastic = stochastic\n",
        "        self.reg = reg\n",
        "        self.batch_size = batch_size\n",
        "        self.alpha = alpha\n",
        "\n",
        "    def splitTrainTest(self):\n",
        "        X_train, X_test, y_train, y_test = train_test_split(self.X, self.y,\n",
        "                                                            test_size=0.3,\n",
        "                                                            random_state=1)\n",
        "        return (X_train, X_test, y_train, y_test)\n",
        "\n",
        "    def add_X0(self, X):\n",
        "        return np.column_stack([np.ones([X.shape[0], 1]), X])\n",
        "\n",
        "    def normalize(self, X):\n",
        "        mean = np.mean(X, 0)\n",
        "        std = np.std(X, 0)\n",
        "        X_norm = (X - mean) / std\n",
        "        X_norm = self.add_X0(X_norm)\n",
        "        return X_norm, mean, std\n",
        "\n",
        "    def normalizetestdata(self, X, meanTrain, stdTrain):\n",
        "        X_norm =  (X - meanTrain) / stdTrain\n",
        "        X_norm = self.add_X0(X_norm)\n",
        "        return X_norm\n",
        "\n",
        "    def l2_regularization(self, w):\n",
        "        \"\"\"Calculate regularization term.\"\"\"\n",
        "        return self.alpha * 0.5 * np.linalg.norm(w, 2)\n",
        "\n",
        "    def grad_reg_term(self, w):\n",
        "        gradient_penalty = np.asarray(self.alpha) * w\n",
        "        # Insert 0 for bias term.\n",
        "        return np.insert(gradient_penalty, 0, 0, axis=0)\n",
        "\n",
        "    def checkMatrix(self, X):\n",
        "        X_rank = np.linalg.matrix_rank(X)\n",
        "\n",
        "        if X_rank == min(X.shape[0], X.shape[1]):\n",
        "            self.fullRank = True\n",
        "            print('data is full rank')\n",
        "        else:\n",
        "            self.fullRank = False\n",
        "            print('data is not full rank')\n",
        "\n",
        "    def checkInvertibility(self, X):\n",
        "        if X.shape[0] < X.shape[1]:\n",
        "            self.lowRank = True\n",
        "        else:\n",
        "            self.lowrank = False\n",
        "\n",
        "    def closedFormSolution(self, X, y):\n",
        "        w = np.linalg.inv(X.T.dot(X)).dot(X.T).dot(y)\n",
        "        return w\n",
        "\n",
        "    def sgd_sample(self, X, y):\n",
        "\n",
        "        n_obs = X.shape[0]\n",
        "\n",
        "        xy = np.c_[X.reshape(n_obs, -1), y.reshape(n_obs, 1)]\n",
        "\n",
        "        # Initializing the random number generator\n",
        "        # seed = None if random_state is None else int(random_state)\n",
        "        rng = np.random.default_rng(seed=None)\n",
        "\n",
        "        rng.shuffle(xy)\n",
        "        if not 0 < self.batch_size <= n_obs:\n",
        "            raise ValueError(\n",
        "                f\"'batch_size' must be greater than zero and less than or equal to the number of observations: {n_obs}\")\n",
        "        start = random.randint(0, n_obs - self.batch_size)\n",
        "\n",
        "        stop = start + self.batch_size\n",
        "        x_batch, y_batch = xy[start:stop, :-1], xy[start:stop, -1:]\n",
        "        y_batch = y_batch.reshape(-1)\n",
        "\n",
        "        return x_batch, y_batch\n",
        "\n",
        "\n",
        "    def sample_batch(self, X, y):\n",
        "        s_range = sample(range(0,X.shape[0]), self.batch_size)\n",
        "        return X[s_range,], y[s_range,]\n",
        "\n",
        "    def gradientDescent(self, X, y):\n",
        "\n",
        "        self.errors = []\n",
        "\n",
        "        lastError = float('inf')\n",
        "\n",
        "        if self.stochastic:\n",
        "            print(\"solving using stochastic gradient descent\")\n",
        "        else:\n",
        "            print(\"solving using gradient descent\")\n",
        "        gradient_reg = 0\n",
        "        regularization = 0\n",
        "        for t in tqdm(range(self.maxIteration)):\n",
        "            if self.stochastic:\n",
        "                #X_batch, y_batch = self.sgd_sample(X, y)\n",
        "                X_batch, y_batch = self.sample_batch(X, y)\n",
        "            else:\n",
        "                X_batch, y_batch = X, y\n",
        "\n",
        "            if self.reg:\n",
        "                gradient_reg = self.grad_reg_term(self.w[1:])\n",
        "                regularization = self.l2_regularization(self.w[1:])\n",
        "\n",
        "            self.w = self.w - self.learningRate * (self.costDerivation(X_batch, y_batch) + gradient_reg)\n",
        "\n",
        "            # cur= self.sse(X_batch,y_batch) + regularization\n",
        "            cur = self.rmse(X_batch, y_batch) + regularization\n",
        "\n",
        "            diff = lastError - cur\n",
        "            lastError = cur\n",
        "            self.errors.append(cur)\n",
        "\n",
        "            if abs(diff) < self.tolerance:\n",
        "                print(\"The model stopped and no further improvement\")\n",
        "                break\n",
        "        self.plot_cost(self.errors)\n",
        "\n",
        "    def predict(self, X):\n",
        "        return X.dot(self.w)\n",
        "\n",
        "    def sse(self, X, y):\n",
        "        y_hat = self.predict(X)\n",
        "        return ((y_hat - y) ** 2).sum()\n",
        "\n",
        "    def rmse(self, X, y):\n",
        "        n = X.shape[0]\n",
        "        return np.sqrt(self.sse(X, y) / n)\n",
        "\n",
        "    def costFunction(self, X, y):\n",
        "        return self.sse(X, y) / 2\n",
        "\n",
        "    def costDerivation(self, X, y):\n",
        "        y_hat = self.predict(X)\n",
        "        return (y_hat - y).dot(X)\n",
        "\n",
        "    def plot_cost(self, cost_sequence):\n",
        "        # Data for plotting\n",
        "        s = np.array(cost_sequence)\n",
        "        t = np.arange(s.size)\n",
        "\n",
        "        fig, ax = plt.subplots()\n",
        "        ax.plot(t, s)\n",
        "\n",
        "        ax.set(xlabel='iterations', ylabel='cost',\n",
        "               title='cost trend')\n",
        "        ax.grid()\n",
        "\n",
        "        plt.legend(bbox_to_anchor=(1.05, 1), loc=2, shadow=True)\n",
        "        plt.show()\n",
        "\n",
        "    def fit(self):\n",
        "\n",
        "        self.X_train, self.X_test, self.y_train, self.y_test = self.splitTrainTest()\n",
        "\n",
        "        # normalize the data\n",
        "        self.X_train, meanTrain, stdTrain = self.normalize(self.X_train)\n",
        "        self.X_test = self.normalizetestdata(self.X_test, meanTrain, stdTrain)\n",
        "\n",
        "        self.checkInvertibility(self.X_train)\n",
        "        self.checkMatrix(self.X_train)\n",
        "\n",
        "        if self.fullRank and not self.lowrank and not self.gd:\n",
        "            print(\"Solving using Normal equation - closed form solution\")\n",
        "            self.w = self.closedFormSolution(self.X_train, self.y_train)\n",
        "\n",
        "        else:\n",
        "            self.w = np.ones(self.X_train.shape[1], dtype=np.float64) * 0\n",
        "            self.gradientDescent(self.X_train, self.y_train)\n",
        "\n",
        "            print(self.w)\n",
        "\n",
        "    def predict_test(self):\n",
        "        #self.w = np.ones(self.X_test.shape[1], dtype=np.float64) * 0\n",
        "\n",
        "        y_hat_test = self.predict(self.X_test)\n",
        "        rmse_test = self.rmse(self.X_test, self.y_test)\n",
        "        sse_test = self.sse(self.X_test, self.y_test)\n",
        "        return y_hat_test, rmse_test, sse_test"
      ]
    },
    {
      "cell_type": "code",
      "source": [
        "\"\"\"\n",
        "Call RMSE and SSE for test data\n",
        "and plot them \n",
        "\n",
        "\"\"\""
      ],
      "metadata": {
        "id": "pCYMH1UhkyvQ"
      },
      "id": "pCYMH1UhkyvQ",
      "execution_count": null,
      "outputs": []
    },
    {
      "cell_type": "code",
      "source": [
        ""
      ],
      "metadata": {
        "id": "sctZUg0Scap4"
      },
      "id": "sctZUg0Scap4",
      "execution_count": null,
      "outputs": []
    },
    {
      "cell_type": "code",
      "source": [
        "datasets = [\n",
        "    {\n",
        "        'name': 'housing',\n",
        "        'kwargs': {\n",
        "            'X': housing_df.values[:, 0:-1],\n",
        "            'y': housing_df.values[:, -1],\n",
        "            'learningRate': 0.0004,\n",
        "            'tolerance': 0.005,\n",
        "            'maxIteration': 50000,\n",
        "            'gd': True,\n",
        "            'stochastic': True,\n",
        "            'reg': True,\n",
        "            'batch_size': 100,\n",
        "            'alpha': 1.0\n",
        "        }\n",
        "    },\n",
        "    {\n",
        "        'name': 'concrete',\n",
        "        'kwargs': {\n",
        "            'X': concrete_df.values[:, 0:-1],\n",
        "            'y': concrete_df.values[:, -1],\n",
        "            'learningRate': 0.0007,\n",
        "            'tolerance': 0.0001,\n",
        "            'maxIteration': 50000,\n",
        "            'gd': True,\n",
        "            'stochastic': True,\n",
        "            'reg': True,\n",
        "            'batch_size': 100,\n",
        "            'alpha': 1.0\n",
        "        }\n",
        "    },\n",
        "    {\n",
        "        'name': 'yatch',\n",
        "        'kwargs': {\n",
        "            'X': yatch_df.values[:, 0:-1],\n",
        "            'y': yatch_df.values[:, -1],\n",
        "            'learningRate': 0.001,\n",
        "            'tolerance': 0.001,\n",
        "            'maxIteration': 50000,\n",
        "            'gd': True,\n",
        "            'stochastic': True,\n",
        "            'reg': True,\n",
        "            'batch_size': 100,\n",
        "            'alpha': 1.0\n",
        "        }\n",
        "    }\n",
        "]\n",
        "\n",
        "for d in datasets:\n",
        "    print(f\"Running Model on dataset: {d['name']}\")\n",
        "    model = LinearRegression(**d['kwargs'])\n",
        "    model.fit()\n",
        "    # print(model.X_train.shape)\n",
        "    # print(model.X_test.shape)\n",
        "    result, rmse_test, sse_test = model.predict_test()\n",
        "    print(rmse_test, sse_test)\n"
      ],
      "metadata": {
        "colab": {
          "base_uri": "https://localhost:8080/",
          "height": 1000
        },
        "id": "w17ZRYn5XuFv",
        "outputId": "3516a272-a1e3-4cf0-e50b-74a1329c189e"
      },
      "id": "w17ZRYn5XuFv",
      "execution_count": 24,
      "outputs": [
        {
          "output_type": "stream",
          "name": "stdout",
          "text": [
            "Running Model on dataset: housing\n",
            "data is full rank\n",
            "solving using stochastic gradient descent\n"
          ]
        },
        {
          "output_type": "stream",
          "name": "stderr",
          "text": [
            "  0%|          | 18/50000 [00:00<00:29, 1705.77it/s]\n",
            "No handles with labels found to put in legend.\n"
          ]
        },
        {
          "output_type": "stream",
          "name": "stdout",
          "text": [
            "The model stopped and no further improvement\n"
          ]
        },
        {
          "output_type": "display_data",
          "data": {
            "image/png": "[encoded data removed]",
            "text/plain": [
              "<Figure size 432x288 with 1 Axes>"
            ]
          },
          "metadata": {
            "needs_background": "light"
          }
        },
        {
          "output_type": "stream",
          "name": "stdout",
          "text": [
            "[12.07878753 -0.59880803  0.67297558 -0.61296894  0.74668535 -0.65410743\n",
            "  1.72531746 -0.48740305 -0.34877256 -0.12617657 -0.36985386 -1.40455697\n",
            "  0.49022338 -2.00837572]\n",
            "11.791484421504816 21133.943939113797\n",
            "Running Model on dataset: concrete\n",
            "data is full rank\n",
            "solving using stochastic gradient descent\n"
          ]
        },
        {
          "output_type": "stream",
          "name": "stderr",
          "text": [
            " 51%|█████     | 25515/50000 [00:06<00:06, 3661.94it/s]\n",
            "No handles with labels found to put in legend.\n"
          ]
        },
        {
          "output_type": "stream",
          "name": "stdout",
          "text": [
            "The model stopped and no further improvement\n"
          ]
        },
        {
          "output_type": "display_data",
          "data": {
            "image/png": "[encoded data removed]",
            "text/plain": [
              "<Figure size 432x288 with 1 Axes>"
            ]
          },
          "metadata": {
            "needs_background": "light"
          }
        },
        {
          "output_type": "stream",
          "name": "stdout",
          "text": [
            "[ 3.56012531e+01  1.13184376e+01  7.60894029e+00  4.01889318e+00\n",
            " -3.98781110e+00  2.07652480e+00  3.72280107e-02  3.46190169e-02\n",
            "  6.99230714e+00]\n",
            "11.000008550616988 37389.05812711688\n",
            "Running Model on dataset: yatch\n",
            "data is full rank\n",
            "solving using stochastic gradient descent\n"
          ]
        },
        {
          "output_type": "stream",
          "name": "stderr",
          "text": [
            "  7%|▋         | 3618/50000 [00:00<00:09, 4645.89it/s]\n",
            "No handles with labels found to put in legend.\n"
          ]
        },
        {
          "output_type": "stream",
          "name": "stdout",
          "text": [
            "The model stopped and no further improvement\n"
          ]
        },
        {
          "output_type": "display_data",
          "data": {
            "image/png": "[encoded data removed]",
            "text/plain": [
              "<Figure size 432x288 with 1 Axes>"
            ]
          },
          "metadata": {
            "needs_background": "light"
          }
        },
        {
          "output_type": "stream",
          "name": "stdout",
          "text": [
            "[10.2798049   0.15578834 -0.66813369  1.62036663 -1.4115038  -1.72319896\n",
            " 12.08561142]\n",
            "8.675760079019929 6999.999604230578\n"
          ]
        }
      ]
    }
  ],
  "metadata": {
    "kernelspec": {
      "display_name": "Python 3 (ipykernel)",
      "language": "python",
      "name": "python3"
    },
    "language_info": {
      "codemirror_mode": {
        "name": "ipython",
        "version": 3
      },
      "file_extension": ".py",
      "mimetype": "text/x-python",
      "name": "python",
      "nbconvert_exporter": "python",
      "pygments_lexer": "ipython3",
      "version": "3.9.7"
    },
    "colab": {
      "name": "ML - LinearRegression.ipynb",
      "provenance": [],
      "collapsed_sections": [],
      "include_colab_link": true
    }
  },
  "nbformat": 4,
  "nbformat_minor": 5
}
{
  "cells": [
    {
      "cell_type": "markdown",
      "metadata": {
        "id": "view-in-github",
        "colab_type": "text"
      },
      "source": [
        "<a href=\"https://colab.research.google.com/github/Rafi653/Machine-Learning/blob/feature%2Flab1/ML_LinearRegression.ipynb\" target=\"_parent\"><img src=\"https://colab.research.google.com/assets/colab-badge.svg\" alt=\"Open In Colab\"/></a>"
      ]
    },
    {
      "cell_type": "code",
      "execution_count": 1,
      "id": "31a47366-87ef-4f40-ad62-6b70aaf45a9c",
      "metadata": {
        "id": "31a47366-87ef-4f40-ad62-6b70aaf45a9c"
      },
      "outputs": [],
      "source": [
        "## Linear Regression"
      ]
    },
    {
      "cell_type": "code",
      "execution_count": 155,
      "id": "b4a24af4-87a2-40a7-a974-ec39d840e52d",
      "metadata": {
        "id": "b4a24af4-87a2-40a7-a974-ec39d840e52d"
      },
      "outputs": [],
      "source": [
        "import pandas as pd\n",
        "import numpy as np\n",
        "import math\n",
        "from tqdm import tqdm\n",
        "from sklearn.model_selection import train_test_split\n",
        "import random\n",
        "import matplotlib.pyplot as plt"
      ]
    },
    {
      "cell_type": "code",
      "execution_count": 4,
      "id": "b1ec6122-3776-48dc-aa0a-6d2a0be38b74",
      "metadata": {
        "colab": {
          "resources": {
            "http://localhost:8080/nbextensions/google.colab/files.js": {
              "data": "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",
              "ok": true,
              "headers": [
                [
                  "content-type",
                  "application/javascript"
                ]
              ],
              "status": 200,
              "status_text": ""
            }
          },
          "base_uri": "https://localhost:8080/",
          "height": 73
        },
        "id": "b1ec6122-3776-48dc-aa0a-6d2a0be38b74",
        "outputId": "ec5aecaf-12b8-4c89-9103-042876a42cc1"
      },
      "outputs": [
        {
          "output_type": "display_data",
          "data": {
            "text/html": [
              "\n",
              "     <input type=\"file\" id=\"files-37249f86-2cb5-4e65-8476-dea47da25834\" name=\"files[]\" multiple disabled\n",
              "        style=\"border:none\" />\n",
              "     <output id=\"result-37249f86-2cb5-4e65-8476-dea47da25834\">\n",
              "      Upload widget is only available when the cell has been executed in the\n",
              "      current browser session. Please rerun this cell to enable.\n",
              "      </output>\n",
              "      <script src=\"/nbextensions/google.colab/files.js\"></script> "
            ],
            "text/plain": [
              "<IPython.core.display.HTML object>"
            ]
          },
          "metadata": {}
        },
        {
          "output_type": "stream",
          "name": "stdout",
          "text": [
            "Saving housing.csv to housing.csv\n"
          ]
        }
      ],
      "source": [
        "from google.colab import files\n",
        "file = files.upload()  #upload file into google colab session\n",
        "\n",
        "df= pd.read_csv('housing.csv')"
      ]
    },
    {
      "cell_type": "code",
      "execution_count": 5,
      "id": "12ee5221-bbee-439f-9cb9-85f1c7f33844",
      "metadata": {
        "colab": {
          "base_uri": "https://localhost:8080/"
        },
        "id": "12ee5221-bbee-439f-9cb9-85f1c7f33844",
        "outputId": "d18d36f2-270a-488e-a066-db078ed2b6e7"
      },
      "outputs": [
        {
          "output_type": "execute_result",
          "data": {
            "text/plain": [
              "(505, 14)"
            ]
          },
          "metadata": {},
          "execution_count": 5
        }
      ],
      "source": [
        "df.head()\n",
        "df.shape"
      ]
    },
    {
      "cell_type": "code",
      "execution_count": 5,
      "id": "120e4b06-95ef-4fa5-b87f-d7627e29e3e6",
      "metadata": {
        "colab": {
          "base_uri": "https://localhost:8080/",
          "height": 488
        },
        "id": "120e4b06-95ef-4fa5-b87f-d7627e29e3e6",
        "outputId": "bcb802b6-19b7-4aba-c860-7081fb886850"
      },
      "outputs": [
        {
          "output_type": "execute_result",
          "data": {
            "text/html": [
              "\n",
              "  <div id=\"df-d45b6570-be96-4287-9ea2-c2cb1daa347b\">\n",
              "    <div class=\"colab-df-container\">\n",
              "      <div>\n",
              "<style scoped>\n",
              "    .dataframe tbody tr th:only-of-type {\n",
              "        vertical-align: middle;\n",
              "    }\n",
              "\n",
              "    .dataframe tbody tr th {\n",
              "        vertical-align: top;\n",
              "    }\n",
              "\n",
              "    .dataframe thead th {\n",
              "        text-align: right;\n",
              "    }\n",
              "</style>\n",
              "<table border=\"1\" class=\"dataframe\">\n",
              "  <thead>\n",
              "    <tr style=\"text-align: right;\">\n",
              "      <th></th>\n",
              "      <th>0.00632</th>\n",
              "      <th>18</th>\n",
              "      <th>2.31</th>\n",
              "      <th>0</th>\n",
              "      <th>0.538</th>\n",
              "      <th>6.575</th>\n",
              "      <th>65.2</th>\n",
              "      <th>4.09</th>\n",
              "      <th>1</th>\n",
              "      <th>296</th>\n",
              "      <th>15.3</th>\n",
              "      <th>396.9</th>\n",
              "      <th>4.98</th>\n",
              "      <th>24</th>\n",
              "    </tr>\n",
              "  </thead>\n",
              "  <tbody>\n",
              "    <tr>\n",
              "      <th>0.00632</th>\n",
              "      <td>1.000000</td>\n",
              "      <td>-0.200283</td>\n",
              "      <td>0.406251</td>\n",
              "      <td>-0.056132</td>\n",
              "      <td>0.420934</td>\n",
              "      <td>-0.218978</td>\n",
              "      <td>0.352701</td>\n",
              "      <td>-0.379626</td>\n",
              "      <td>0.625395</td>\n",
              "      <td>0.582568</td>\n",
              "      <td>0.289393</td>\n",
              "      <td>-0.384838</td>\n",
              "      <td>0.455328</td>\n",
              "      <td>-0.388249</td>\n",
              "    </tr>\n",
              "    <tr>\n",
              "      <th>18</th>\n",
              "      <td>-0.200283</td>\n",
              "      <td>1.000000</td>\n",
              "      <td>-0.534022</td>\n",
              "      <td>-0.042550</td>\n",
              "      <td>-0.516574</td>\n",
              "      <td>0.311835</td>\n",
              "      <td>-0.569524</td>\n",
              "      <td>0.664396</td>\n",
              "      <td>-0.311717</td>\n",
              "      <td>-0.314351</td>\n",
              "      <td>-0.391713</td>\n",
              "      <td>0.175319</td>\n",
              "      <td>-0.412894</td>\n",
              "      <td>0.360393</td>\n",
              "    </tr>\n",
              "    <tr>\n",
              "      <th>2.31</th>\n",
              "      <td>0.406251</td>\n",
              "      <td>-0.534022</td>\n",
              "      <td>1.000000</td>\n",
              "      <td>0.062350</td>\n",
              "      <td>0.764556</td>\n",
              "      <td>-0.391330</td>\n",
              "      <td>0.645543</td>\n",
              "      <td>-0.708848</td>\n",
              "      <td>0.594167</td>\n",
              "      <td>0.720561</td>\n",
              "      <td>0.380955</td>\n",
              "      <td>-0.356506</td>\n",
              "      <td>0.602737</td>\n",
              "      <td>-0.484126</td>\n",
              "    </tr>\n",
              "    <tr>\n",
              "      <th>0</th>\n",
              "      <td>-0.056132</td>\n",
              "      <td>-0.042550</td>\n",
              "      <td>0.062350</td>\n",
              "      <td>1.000000</td>\n",
              "      <td>0.091134</td>\n",
              "      <td>0.091497</td>\n",
              "      <td>0.086461</td>\n",
              "      <td>-0.099109</td>\n",
              "      <td>-0.007907</td>\n",
              "      <td>-0.035965</td>\n",
              "      <td>-0.122570</td>\n",
              "      <td>0.049040</td>\n",
              "      <td>-0.054576</td>\n",
              "      <td>0.175364</td>\n",
              "    </tr>\n",
              "    <tr>\n",
              "      <th>0.538</th>\n",
              "      <td>0.420934</td>\n",
              "      <td>-0.516574</td>\n",
              "      <td>0.764556</td>\n",
              "      <td>0.091134</td>\n",
              "      <td>1.000000</td>\n",
              "      <td>-0.302127</td>\n",
              "      <td>0.731461</td>\n",
              "      <td>-0.769220</td>\n",
              "      <td>0.611758</td>\n",
              "      <td>0.668141</td>\n",
              "      <td>0.188918</td>\n",
              "      <td>-0.380006</td>\n",
              "      <td>0.591262</td>\n",
              "      <td>-0.427295</td>\n",
              "    </tr>\n",
              "    <tr>\n",
              "      <th>6.575</th>\n",
              "      <td>-0.218978</td>\n",
              "      <td>0.311835</td>\n",
              "      <td>-0.391330</td>\n",
              "      <td>0.091497</td>\n",
              "      <td>-0.302127</td>\n",
              "      <td>1.000000</td>\n",
              "      <td>-0.240211</td>\n",
              "      <td>0.205170</td>\n",
              "      <td>-0.209277</td>\n",
              "      <td>-0.291680</td>\n",
              "      <td>-0.355116</td>\n",
              "      <td>0.127754</td>\n",
              "      <td>-0.613734</td>\n",
              "      <td>0.695365</td>\n",
              "    </tr>\n",
              "    <tr>\n",
              "      <th>65.2</th>\n",
              "      <td>0.352701</td>\n",
              "      <td>-0.569524</td>\n",
              "      <td>0.645543</td>\n",
              "      <td>0.086461</td>\n",
              "      <td>0.731461</td>\n",
              "      <td>-0.240211</td>\n",
              "      <td>1.000000</td>\n",
              "      <td>-0.747872</td>\n",
              "      <td>0.456232</td>\n",
              "      <td>0.506527</td>\n",
              "      <td>0.261724</td>\n",
              "      <td>-0.273486</td>\n",
              "      <td>0.602782</td>\n",
              "      <td>-0.376932</td>\n",
              "    </tr>\n",
              "    <tr>\n",
              "      <th>4.09</th>\n",
              "      <td>-0.379626</td>\n",
              "      <td>0.664396</td>\n",
              "      <td>-0.708848</td>\n",
              "      <td>-0.099109</td>\n",
              "      <td>-0.769220</td>\n",
              "      <td>0.205170</td>\n",
              "      <td>-0.747872</td>\n",
              "      <td>1.000000</td>\n",
              "      <td>-0.494797</td>\n",
              "      <td>-0.534492</td>\n",
              "      <td>-0.232560</td>\n",
              "      <td>0.291451</td>\n",
              "      <td>-0.497276</td>\n",
              "      <td>0.249895</td>\n",
              "    </tr>\n",
              "    <tr>\n",
              "      <th>1</th>\n",
              "      <td>0.625395</td>\n",
              "      <td>-0.311717</td>\n",
              "      <td>0.594167</td>\n",
              "      <td>-0.007907</td>\n",
              "      <td>0.611758</td>\n",
              "      <td>-0.209277</td>\n",
              "      <td>0.456232</td>\n",
              "      <td>-0.494797</td>\n",
              "      <td>1.000000</td>\n",
              "      <td>0.910202</td>\n",
              "      <td>0.463322</td>\n",
              "      <td>-0.444065</td>\n",
              "      <td>0.487608</td>\n",
              "      <td>-0.381690</td>\n",
              "    </tr>\n",
              "    <tr>\n",
              "      <th>296</th>\n",
              "      <td>0.582568</td>\n",
              "      <td>-0.314351</td>\n",
              "      <td>0.720561</td>\n",
              "      <td>-0.035965</td>\n",
              "      <td>0.668141</td>\n",
              "      <td>-0.291680</td>\n",
              "      <td>0.506527</td>\n",
              "      <td>-0.534492</td>\n",
              "      <td>0.910202</td>\n",
              "      <td>1.000000</td>\n",
              "      <td>0.460100</td>\n",
              "      <td>-0.441505</td>\n",
              "      <td>0.543435</td>\n",
              "      <td>-0.468543</td>\n",
              "    </tr>\n",
              "    <tr>\n",
              "      <th>15.3</th>\n",
              "      <td>0.289393</td>\n",
              "      <td>-0.391713</td>\n",
              "      <td>0.380955</td>\n",
              "      <td>-0.122570</td>\n",
              "      <td>0.188918</td>\n",
              "      <td>-0.355116</td>\n",
              "      <td>0.261724</td>\n",
              "      <td>-0.232560</td>\n",
              "      <td>0.463322</td>\n",
              "      <td>0.460100</td>\n",
              "      <td>1.000000</td>\n",
              "      <td>-0.176515</td>\n",
              "      <td>0.372148</td>\n",
              "      <td>-0.508411</td>\n",
              "    </tr>\n",
              "    <tr>\n",
              "      <th>396.9</th>\n",
              "      <td>-0.384838</td>\n",
              "      <td>0.175319</td>\n",
              "      <td>-0.356506</td>\n",
              "      <td>0.049040</td>\n",
              "      <td>-0.380006</td>\n",
              "      <td>0.127754</td>\n",
              "      <td>-0.273486</td>\n",
              "      <td>0.291451</td>\n",
              "      <td>-0.444065</td>\n",
              "      <td>-0.441505</td>\n",
              "      <td>-0.176515</td>\n",
              "      <td>1.000000</td>\n",
              "      <td>-0.365637</td>\n",
              "      <td>0.333394</td>\n",
              "    </tr>\n",
              "    <tr>\n",
              "      <th>4.98</th>\n",
              "      <td>0.455328</td>\n",
              "      <td>-0.412894</td>\n",
              "      <td>0.602737</td>\n",
              "      <td>-0.054576</td>\n",
              "      <td>0.591262</td>\n",
              "      <td>-0.613734</td>\n",
              "      <td>0.602782</td>\n",
              "      <td>-0.497276</td>\n",
              "      <td>0.487608</td>\n",
              "      <td>0.543435</td>\n",
              "      <td>0.372148</td>\n",
              "      <td>-0.365637</td>\n",
              "      <td>1.000000</td>\n",
              "      <td>-0.738187</td>\n",
              "    </tr>\n",
              "    <tr>\n",
              "      <th>24</th>\n",
              "      <td>-0.388249</td>\n",
              "      <td>0.360393</td>\n",
              "      <td>-0.484126</td>\n",
              "      <td>0.175364</td>\n",
              "      <td>-0.427295</td>\n",
              "      <td>0.695365</td>\n",
              "      <td>-0.376932</td>\n",
              "      <td>0.249895</td>\n",
              "      <td>-0.381690</td>\n",
              "      <td>-0.468543</td>\n",
              "      <td>-0.508411</td>\n",
              "      <td>0.333394</td>\n",
              "      <td>-0.738187</td>\n",
              "      <td>1.000000</td>\n",
              "    </tr>\n",
              "  </tbody>\n",
              "</table>\n",
              "</div>\n",
              "      <button class=\"colab-df-convert\" onclick=\"convertToInteractive('df-d45b6570-be96-4287-9ea2-c2cb1daa347b')\"\n",
              "              title=\"Convert this dataframe to an interactive table.\"\n",
              "              style=\"display:none;\">\n",
              "        \n",
              "  <svg xmlns=\"http://www.w3.org/2000/svg\" height=\"24px\"viewBox=\"0 0 24 24\"\n",
              "       width=\"24px\">\n",
              "    <path d=\"M0 0h24v24H0V0z\" fill=\"none\"/>\n",
              "    <path d=\"M18.56 5.44l.94 2.06.94-2.06 2.06-.94-2.06-.94-.94-2.06-.94 2.06-2.06.94zm-11 1L8.5 8.5l.94-2.06 2.06-.94-2.06-.94L8.5 2.5l-.94 2.06-2.06.94zm10 10l.94 2.06.94-2.06 2.06-.94-2.06-.94-.94-2.06-.94 2.06-2.06.94z\"/><path d=\"M17.41 7.96l-1.37-1.37c-.4-.4-.92-.59-1.43-.59-.52 0-1.04.2-1.43.59L10.3 9.45l-7.72 7.72c-.78.78-.78 2.05 0 2.83L4 21.41c.39.39.9.59 1.41.59.51 0 1.02-.2 1.41-.59l7.78-7.78 2.81-2.81c.8-.78.8-2.07 0-2.86zM5.41 20L4 18.59l7.72-7.72 1.47 1.35L5.41 20z\"/>\n",
              "  </svg>\n",
              "      </button>\n",
              "      \n",
              "  <style>\n",
              "    .colab-df-container {\n",
              "      display:flex;\n",
              "      flex-wrap:wrap;\n",
              "      gap: 12px;\n",
              "    }\n",
              "\n",
              "    .colab-df-convert {\n",
              "      background-color: #E8F0FE;\n",
              "      border: none;\n",
              "      border-radius: 50%;\n",
              "      cursor: pointer;\n",
              "      display: none;\n",
              "      fill: #1967D2;\n",
              "      height: 32px;\n",
              "      padding: 0 0 0 0;\n",
              "      width: 32px;\n",
              "    }\n",
              "\n",
              "    .colab-df-convert:hover {\n",
              "      background-color: #E2EBFA;\n",
              "      box-shadow: 0px 1px 2px rgba(60, 64, 67, 0.3), 0px 1px 3px 1px rgba(60, 64, 67, 0.15);\n",
              "      fill: #174EA6;\n",
              "    }\n",
              "\n",
              "    [theme=dark] .colab-df-convert {\n",
              "      background-color: #3B4455;\n",
              "      fill: #D2E3FC;\n",
              "    }\n",
              "\n",
              "    [theme=dark] .colab-df-convert:hover {\n",
              "      background-color: #434B5C;\n",
              "      box-shadow: 0px 1px 3px 1px rgba(0, 0, 0, 0.15);\n",
              "      filter: drop-shadow(0px 1px 2px rgba(0, 0, 0, 0.3));\n",
              "      fill: #FFFFFF;\n",
              "    }\n",
              "  </style>\n",
              "\n",
              "      <script>\n",
              "        const buttonEl =\n",
              "          document.querySelector('#df-d45b6570-be96-4287-9ea2-c2cb1daa347b button.colab-df-convert');\n",
              "        buttonEl.style.display =\n",
              "          google.colab.kernel.accessAllowed ? 'block' : 'none';\n",
              "\n",
              "        async function convertToInteractive(key) {\n",
              "          const element = document.querySelector('#df-d45b6570-be96-4287-9ea2-c2cb1daa347b');\n",
              "          const dataTable =\n",
              "            await google.colab.kernel.invokeFunction('convertToInteractive',\n",
              "                                                     [key], {});\n",
              "          if (!dataTable) return;\n",
              "\n",
              "          const docLinkHtml = 'Like what you see? Visit the ' +\n",
              "            '<a target=\"_blank\" href=https://colab.research.google.com/notebooks/data_table.ipynb>data table notebook</a>'\n",
              "            + ' to learn more about interactive tables.';\n",
              "          element.innerHTML = '';\n",
              "          dataTable['output_type'] = 'display_data';\n",
              "          await google.colab.output.renderOutput(dataTable, element);\n",
              "          const docLink = document.createElement('div');\n",
              "          docLink.innerHTML = docLinkHtml;\n",
              "          element.appendChild(docLink);\n",
              "        }\n",
              "      </script>\n",
              "    </div>\n",
              "  </div>\n",
              "  "
            ],
            "text/plain": [
              "          0.00632        18      2.31  ...     396.9      4.98        24\n",
              "0.00632  1.000000 -0.200283  0.406251  ... -0.384838  0.455328 -0.388249\n",
              "18      -0.200283  1.000000 -0.534022  ...  0.175319 -0.412894  0.360393\n",
              "2.31     0.406251 -0.534022  1.000000  ... -0.356506  0.602737 -0.484126\n",
              "0       -0.056132 -0.042550  0.062350  ...  0.049040 -0.054576  0.175364\n",
              "0.538    0.420934 -0.516574  0.764556  ... -0.380006  0.591262 -0.427295\n",
              "6.575   -0.218978  0.311835 -0.391330  ...  0.127754 -0.613734  0.695365\n",
              "65.2     0.352701 -0.569524  0.645543  ... -0.273486  0.602782 -0.376932\n",
              "4.09    -0.379626  0.664396 -0.708848  ...  0.291451 -0.497276  0.249895\n",
              "1        0.625395 -0.311717  0.594167  ... -0.444065  0.487608 -0.381690\n",
              "296      0.582568 -0.314351  0.720561  ... -0.441505  0.543435 -0.468543\n",
              "15.3     0.289393 -0.391713  0.380955  ... -0.176515  0.372148 -0.508411\n",
              "396.9   -0.384838  0.175319 -0.356506  ...  1.000000 -0.365637  0.333394\n",
              "4.98     0.455328 -0.412894  0.602737  ... -0.365637  1.000000 -0.738187\n",
              "24      -0.388249  0.360393 -0.484126  ...  0.333394 -0.738187  1.000000\n",
              "\n",
              "[14 rows x 14 columns]"
            ]
          },
          "metadata": {},
          "execution_count": 5
        }
      ],
      "source": [
        "df.corr()"
      ]
    },
    {
      "cell_type": "code",
      "execution_count": 156,
      "id": "0c1f786e-ebc8-4451-9eb0-7e0a67ca9daf",
      "metadata": {
        "id": "0c1f786e-ebc8-4451-9eb0-7e0a67ca9daf"
      },
      "outputs": [],
      "source": [
        "class LinearRegression:\n",
        "    def __init__(self, X, y, learningRate, tolerance, maxIteration, gd= False, stochastic=False, reg = False, batch_size =100) -> None:\n",
        "        self.X= X\n",
        "        self.y= y\n",
        "        self.tolerance= tolerance\n",
        "        self.learningRate= learningRate\n",
        "        self.maxIteration= maxIteration\n",
        "        self.gd= gd\n",
        "        self.stochastic = stochastic\n",
        "        self.batch_size = batch_size\n",
        "        \n",
        "    def splitTrainTest(self):\n",
        "        X_train, X_test, y_train, y_test= train_test_split(self.X, self.y,\n",
        "                                                           test_size= 0.3,\n",
        "                                                           random_state=1)\n",
        "        return (X_train, X_test, y_train, y_test)\n",
        "    \n",
        "    def add_X0(self,X):\n",
        "        return np.column_stack([np.ones([X.shape[0],1]), X])\n",
        "    \n",
        "    def normalize(self,X):\n",
        "        mean= np.mean(X,0)\n",
        "        std= np.std(X,0)\n",
        "        X_norm= (X - mean)/ std\n",
        "        X_norm= self.add_X0(X_norm)\n",
        "        return X_norm, mean, std\n",
        "    \n",
        "    def normalizetestdata(self, X, meanTrain, stdTrain):\n",
        "        return (X- meanTrain)/ stdTrain\n",
        "\n",
        "    def l2_regularization(self):\n",
        "      pass\n",
        "    \n",
        "    def checkMatrix(self, X):\n",
        "        X_rank= np.linalg.matrix_rank(X)\n",
        "        \n",
        "        if X_rank== min(X.shape[0], X.shape[1]):\n",
        "            self.fullRank= True\n",
        "            print('data is full rank')\n",
        "        else:\n",
        "            self.fullRank= False\n",
        "            print('data is not full rank')\n",
        "            \n",
        "    def checkInvertibility(self,X):\n",
        "        if X.shape[0] < X.shape[1]:\n",
        "            self.lowRank= True\n",
        "        else:\n",
        "            self.lowrank= False\n",
        "            \n",
        "    def closedFormSolution(self, X,y):\n",
        "        w= np.linalg.inv(X.T.dot(X)).dot(X.T).dot(y)\n",
        "        return w\n",
        "\n",
        "    def sgd_sample(self, X, y):\n",
        "       \n",
        "        n_obs = X.shape[0]\n",
        "\n",
        "        xy = np.c_[X.reshape(n_obs, -1), y.reshape(n_obs, 1)]\n",
        "\n",
        "        # Initializing the random number generator\n",
        "        #seed = None if random_state is None else int(random_state)\n",
        "        rng = np.random.default_rng(seed=2)\n",
        "\n",
        "        rng.shuffle(xy)\n",
        "        if not 0 < self.batch_size <= n_obs:\n",
        "            raise ValueError(f\"'batch_size' must be greater than zero and less than or equal to the number of observations: {n_obs}\")\n",
        "        start = random.randint(0, n_obs - self.batch_size)\n",
        "\n",
        "        stop = start + self.batch_size\n",
        "        x_batch, y_batch = xy[start:stop, :-1], xy[start:stop, -1:]\n",
        "        y_batch = y_batch.reshape(-1)\n",
        "        \n",
        "        return x_batch, y_batch\n",
        "    \n",
        "    def gradientDescent(self,X,y):\n",
        "        \n",
        "        self.errors= []\n",
        "        \n",
        "        lastError= float('inf')\n",
        "        print(X.shape)\n",
        "        print(y.shape)\n",
        "        for t in tqdm(range(self.maxIteration)):\n",
        "            if self.stochastic:\n",
        "                print(\"solving using stochastic gradient descent\")\n",
        "                X_batch, y_batch = self.sgd_sample(X, y)\n",
        "            else:\n",
        "                print(\"solving using gradient descent\")\n",
        "                X_batch, y_batch = X, y\n",
        "            \n",
        "            self.w= self.w - self.learningRate * self.costDerivation(X_batch,y_batch)\n",
        "            \n",
        "            cur= self.sse(X_batch,y_batch)\n",
        "            \n",
        "            diff= lastError - cur\n",
        "            lastError= cur\n",
        "            self.errors.append(cur)\n",
        "            \n",
        "            if abs(diff) < self.tolerance:\n",
        "                print(\"The model stopped and no further improvement\")\n",
        "                break\n",
        "        self.plot_cost(self.errors)\n",
        "            \n",
        "    def predict(self, X):\n",
        "        return X.dot(self.w)\n",
        "    \n",
        "    def sse(self, X, y):\n",
        "        y_hat= self.predict(X)\n",
        "        return((y_hat-y)**2).sum()\n",
        "    \n",
        "    def costFunction(self, X, y):\n",
        "        return self.sse(X, y)/ 2\n",
        "    \n",
        "    def costDerivation(self, X, y):\n",
        "        y_hat= self.predict(X)\n",
        "        return(y_hat - y).dot(X)\n",
        "\n",
        "    def plot_cost(self, cost_sequence):\n",
        "    # Data for plotting\n",
        "      s = np.array(cost_sequence)\n",
        "      t = np.arange(s.size)\n",
        "\n",
        "      fig, ax = plt.subplots()\n",
        "      ax.plot(t, s)\n",
        "\n",
        "      ax.set(xlabel='iterations', ylabel='cost',\n",
        "              title='cost trend')\n",
        "      ax.grid()\n",
        "\n",
        "      plt.legend(bbox_to_anchor=(1.05,1), loc=2, shadow=True)\n",
        "      plt.show()\n",
        "\n",
        "    def fit(self):\n",
        "        \n",
        "        self.X_train, self.X_test, self.y_train, self.y_test= self.splitTrainTest()\n",
        "        \n",
        "        #normalize the data\n",
        "        self.X_train, meanTrain, stdTrain= self.normalize(self.X_train)\n",
        "        self.X_test= self.normalizetestdata(self.X_test, meanTrain, stdTrain)\n",
        "        \n",
        "        self.checkInvertibility(self.X_train)\n",
        "        self.checkMatrix(self.X_train)\n",
        "        \n",
        "        if self.fullRank and not self.lowrank and not self.gd:\n",
        "            print(\"Solving using Normal equation - closed form solution\")\n",
        "            self.w= self.closedFormSolution(self.X_train, self.y_train)\n",
        "            \n",
        "        else:\n",
        "            self.w= np.ones(self.X_train.shape[1], dtype= np.float64)*0\n",
        "            self.gradientDescent(self.X_train, self.y_train)\n",
        "            \n",
        "            print(self.w)"
      ]
    },
    {
      "cell_type": "code",
      "execution_count": 7,
      "id": "6435829e-92da-47fa-9068-e27bc026d019",
      "metadata": {
        "id": "6435829e-92da-47fa-9068-e27bc026d019"
      },
      "outputs": [],
      "source": [
        "regression = LinearRegression(df.values[:,0:-1],\n",
        "                              df.values[:, -1],\n",
        "                              learningRate= 0.000001,\n",
        "                              tolerance= 0.000005,\n",
        "                              maxIteration= 10000,\n",
        "                              gd= False)"
      ]
    },
    {
      "cell_type": "code",
      "execution_count": 8,
      "id": "135b5a58-99b5-4970-ad56-521e508dbf5f",
      "metadata": {
        "colab": {
          "base_uri": "https://localhost:8080/"
        },
        "id": "135b5a58-99b5-4970-ad56-521e508dbf5f",
        "outputId": "a04df0f9-07e0-477a-ba1f-90b5fd20b467"
      },
      "outputs": [
        {
          "output_type": "stream",
          "name": "stdout",
          "text": [
            "data is full rank\n",
            "Solving using Normal equation - closed form solution\n"
          ]
        }
      ],
      "source": [
        "regression.fit()"
      ]
    },
    {
      "cell_type": "code",
      "execution_count": 9,
      "id": "c4a94776-39bb-4101-a937-8956799ad855",
      "metadata": {
        "id": "c4a94776-39bb-4101-a937-8956799ad855"
      },
      "outputs": [],
      "source": [
        "regression = LinearRegression(df.values[:,0:-1],\n",
        "                              df.values[:, -1],\n",
        "                              learningRate= 0.000001,\n",
        "                              tolerance= 0.000005,\n",
        "                              maxIteration= 10000,\n",
        "                              gd= True)"
      ]
    },
    {
      "cell_type": "code",
      "execution_count": 10,
      "id": "7aeba410-8ebb-40b9-a569-46255c1f8b23",
      "metadata": {
        "colab": {
          "base_uri": "https://localhost:8080/"
        },
        "id": "7aeba410-8ebb-40b9-a569-46255c1f8b23",
        "outputId": "3c7b5a92-0e98-498d-e36c-688107a11bc3"
      },
      "outputs": [
        {
          "output_type": "stream",
          "name": "stdout",
          "text": [
            "data is full rank\n",
            "solving using gradient descent\n"
          ]
        },
        {
          "output_type": "stream",
          "name": "stderr",
          "text": [
            "100%|██████████| 10000/10000 [00:00<00:00, 43824.51it/s]"
          ]
        },
        {
          "output_type": "stream",
          "name": "stdout",
          "text": [
            "[21.73737909 -0.48223426  0.67929434 -0.54526329  0.94159179 -1.17844607\n",
            "  2.71428393 -0.36828244 -1.93599005  0.76730127 -0.45131064 -1.59940807\n",
            "  0.53796905 -3.37675097]\n"
          ]
        },
        {
          "output_type": "stream",
          "name": "stderr",
          "text": [
            "\n"
          ]
        }
      ],
      "source": [
        "regression.fit()"
      ]
    },
    {
      "cell_type": "code",
      "execution_count": 141,
      "id": "3df96571-cb08-414d-9a8f-509dd47f0e90",
      "metadata": {
        "id": "3df96571-cb08-414d-9a8f-509dd47f0e90"
      },
      "outputs": [],
      "source": [
        "regression = LinearRegression(df.values[:,0:-1],\n",
        "                              df.values[:, -1],\n",
        "                              learningRate= 0.000001,\n",
        "                              tolerance= 0.000005,\n",
        "                              maxIteration= 50000,\n",
        "                              gd= True)"
      ]
    },
    {
      "cell_type": "code",
      "execution_count": 142,
      "id": "b4368f7a-6e91-4276-a668-e41c0486eb71",
      "metadata": {
        "colab": {
          "base_uri": "https://localhost:8080/"
        },
        "id": "b4368f7a-6e91-4276-a668-e41c0486eb71",
        "outputId": "d849f9b0-52a9-4d23-81bb-064d163220bc"
      },
      "outputs": [
        {
          "output_type": "stream",
          "name": "stdout",
          "text": [
            "data is full rank\n",
            "solving using gradient descent\n",
            "(353, 14)\n",
            "(353,)\n"
          ]
        },
        {
          "output_type": "stream",
          "name": "stderr",
          "text": [
            "100%|██████████| 50000/50000 [00:01<00:00, 48414.23it/s]"
          ]
        },
        {
          "output_type": "stream",
          "name": "stdout",
          "text": [
            "[22.39320065 -0.76256258  1.42745569 -0.18606945  0.88613824 -2.6011521\n",
            "  2.09074456 -0.08336346 -3.57569168  2.11750482 -1.43787621 -1.73404394\n",
            "  0.37475875 -4.09387352]\n"
          ]
        },
        {
          "output_type": "stream",
          "name": "stderr",
          "text": [
            "\n"
          ]
        }
      ],
      "source": [
        "regression.fit()"
      ]
    },
    {
      "cell_type": "code",
      "execution_count": 157,
      "id": "9a890ad8-7539-4a34-917c-20f33d402cea",
      "metadata": {
        "id": "9a890ad8-7539-4a34-917c-20f33d402cea"
      },
      "outputs": [],
      "source": [
        "regression = LinearRegression(df.values[:,0:-1],\n",
        "                              df.values[:, -1],\n",
        "                              learningRate= 0.000001,\n",
        "                              tolerance= 0.000005,\n",
        "                              maxIteration= 10000,\n",
        "                              gd= True, \n",
        "                              stochastic = True, \n",
        "                              batch_size = 200)"
      ]
    },
    {
      "cell_type": "code",
      "source": [
        "regression.fit()"
      ],
      "metadata": {
        "colab": {
          "base_uri": "https://localhost:8080/",
          "height": 455
        },
        "id": "z7Mo1kPz4FSY",
        "outputId": "bab3f7fd-0a96-4fee-b738-54d6a41a5ca2"
      },
      "id": "z7Mo1kPz4FSY",
      "execution_count": 158,
      "outputs": [
        {
          "output_type": "stream",
          "name": "stdout",
          "text": [
            "data is full rank\n",
            "solving using gradient descent\n",
            "(353, 14)\n",
            "(353,)\n"
          ]
        },
        {
          "output_type": "stream",
          "name": "stderr",
          "text": [
            "100%|██████████| 10000/10000 [00:07<00:00, 1350.83it/s]\n",
            "No handles with labels found to put in legend.\n"
          ]
        },
        {
          "output_type": "display_data",
          "data": {
            "image/png": "[encoded data removed]",
            "text/plain": [
              "<Figure size 432x288 with 1 Axes>"
            ]
          },
          "metadata": {
            "needs_background": "light"
          }
        },
        {
          "output_type": "stream",
          "name": "stdout",
          "text": [
            "[19.15195796 -0.72458487  0.62488832 -0.52406552  0.99903257 -0.76073672\n",
            "  2.29891785 -0.21000326 -1.13156234  0.33729527 -0.53236277 -1.21237008\n",
            "  0.54598708 -2.89620808]\n"
          ]
        }
      ]
    }
  ],
  "metadata": {
    "kernelspec": {
      "display_name": "Python 3 (ipykernel)",
      "language": "python",
      "name": "python3"
    },
    "language_info": {
      "codemirror_mode": {
        "name": "ipython",
        "version": 3
      },
      "file_extension": ".py",
      "mimetype": "text/x-python",
      "name": "python",
      "nbconvert_exporter": "python",
      "pygments_lexer": "ipython3",
      "version": "3.9.7"
    },
    "colab": {
      "name": "ML - LinearRegression.ipynb",
      "provenance": [],
      "include_colab_link": true
    }
  },
  "nbformat": 4,
  "nbformat_minor": 5
}
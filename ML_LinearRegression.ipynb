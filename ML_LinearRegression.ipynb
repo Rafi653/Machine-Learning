{
  "cells": [
    {
      "cell_type": "markdown",
      "metadata": {
        "id": "view-in-github",
        "colab_type": "text"
      },
      "source": [
        "<a href=\"https://colab.research.google.com/github/Rafi653/Machine-Learning/blob/feature%2Flab_assignment-1/ML_LinearRegression.ipynb\" target=\"_parent\"><img src=\"https://colab.research.google.com/assets/colab-badge.svg\" alt=\"Open In Colab\"/></a>"
      ]
    },
    {
      "cell_type": "code",
      "execution_count": 1,
      "id": "31a47366-87ef-4f40-ad62-6b70aaf45a9c",
      "metadata": {
        "id": "31a47366-87ef-4f40-ad62-6b70aaf45a9c"
      },
      "outputs": [],
      "source": [
        "## Linear Regression"
      ]
    },
    {
      "cell_type": "code",
      "execution_count": 155,
      "id": "b4a24af4-87a2-40a7-a974-ec39d840e52d",
      "metadata": {
        "id": "b4a24af4-87a2-40a7-a974-ec39d840e52d"
      },
      "outputs": [],
      "source": [
        "import pandas as pd\n",
        "import numpy as np\n",
        "import math\n",
        "from tqdm import tqdm\n",
        "from sklearn.model_selection import train_test_split\n",
        "import random\n",
        "import matplotlib.pyplot as plt"
      ]
    },
    {
      "cell_type": "code",
      "execution_count": 179,
      "id": "b1ec6122-3776-48dc-aa0a-6d2a0be38b74",
      "metadata": {
        "id": "b1ec6122-3776-48dc-aa0a-6d2a0be38b74"
      },
      "outputs": [],
      "source": [
        "from google.colab import files\n",
        "#file = files.upload()  #upload file into google colab session\n",
        "\n",
        "housing_df= pd.read_csv('housing.csv', header=None)\n",
        "\n",
        "concrete_df= pd.read_csv('concreteData.csv', header=None)\n",
        "\n",
        "yatch_df= pd.read_csv('yachtData.csv', header=None)"
      ]
    },
    {
      "cell_type": "code",
      "source": [
        "housing_df.head()"
      ],
      "metadata": {
        "colab": {
          "base_uri": "https://localhost:8080/",
          "height": 206
        },
        "id": "zN_kMHzHWkgm",
        "outputId": "0000e585-e729-4ae7-a283-1f8e571c2116"
      },
      "id": "zN_kMHzHWkgm",
      "execution_count": 180,
      "outputs": [
        {
          "output_type": "execute_result",
          "data": {
            "text/html": [
              "\n",
              "  <div id=\"df-b56cf71e-09ec-4c32-921c-74fcc34d0244\">\n",
              "    <div class=\"colab-df-container\">\n",
              "      <div>\n",
              "<style scoped>\n",
              "    .dataframe tbody tr th:only-of-type {\n",
              "        vertical-align: middle;\n",
              "    }\n",
              "\n",
              "    .dataframe tbody tr th {\n",
              "        vertical-align: top;\n",
              "    }\n",
              "\n",
              "    .dataframe thead th {\n",
              "        text-align: right;\n",
              "    }\n",
              "</style>\n",
              "<table border=\"1\" class=\"dataframe\">\n",
              "  <thead>\n",
              "    <tr style=\"text-align: right;\">\n",
              "      <th></th>\n",
              "      <th>0</th>\n",
              "      <th>1</th>\n",
              "      <th>2</th>\n",
              "      <th>3</th>\n",
              "      <th>4</th>\n",
              "      <th>5</th>\n",
              "      <th>6</th>\n",
              "      <th>7</th>\n",
              "      <th>8</th>\n",
              "      <th>9</th>\n",
              "      <th>10</th>\n",
              "      <th>11</th>\n",
              "      <th>12</th>\n",
              "      <th>13</th>\n",
              "    </tr>\n",
              "  </thead>\n",
              "  <tbody>\n",
              "    <tr>\n",
              "      <th>0</th>\n",
              "      <td>0.00632</td>\n",
              "      <td>18.0</td>\n",
              "      <td>2.31</td>\n",
              "      <td>0</td>\n",
              "      <td>0.538</td>\n",
              "      <td>6.575</td>\n",
              "      <td>65.2</td>\n",
              "      <td>4.0900</td>\n",
              "      <td>1</td>\n",
              "      <td>296</td>\n",
              "      <td>15.3</td>\n",
              "      <td>396.90</td>\n",
              "      <td>4.98</td>\n",
              "      <td>24.0</td>\n",
              "    </tr>\n",
              "    <tr>\n",
              "      <th>1</th>\n",
              "      <td>0.02731</td>\n",
              "      <td>0.0</td>\n",
              "      <td>7.07</td>\n",
              "      <td>0</td>\n",
              "      <td>0.469</td>\n",
              "      <td>6.421</td>\n",
              "      <td>78.9</td>\n",
              "      <td>4.9671</td>\n",
              "      <td>2</td>\n",
              "      <td>242</td>\n",
              "      <td>17.8</td>\n",
              "      <td>396.90</td>\n",
              "      <td>9.14</td>\n",
              "      <td>21.6</td>\n",
              "    </tr>\n",
              "    <tr>\n",
              "      <th>2</th>\n",
              "      <td>0.02729</td>\n",
              "      <td>0.0</td>\n",
              "      <td>7.07</td>\n",
              "      <td>0</td>\n",
              "      <td>0.469</td>\n",
              "      <td>7.185</td>\n",
              "      <td>61.1</td>\n",
              "      <td>4.9671</td>\n",
              "      <td>2</td>\n",
              "      <td>242</td>\n",
              "      <td>17.8</td>\n",
              "      <td>392.83</td>\n",
              "      <td>4.03</td>\n",
              "      <td>34.7</td>\n",
              "    </tr>\n",
              "    <tr>\n",
              "      <th>3</th>\n",
              "      <td>0.03237</td>\n",
              "      <td>0.0</td>\n",
              "      <td>2.18</td>\n",
              "      <td>0</td>\n",
              "      <td>0.458</td>\n",
              "      <td>6.998</td>\n",
              "      <td>45.8</td>\n",
              "      <td>6.0622</td>\n",
              "      <td>3</td>\n",
              "      <td>222</td>\n",
              "      <td>18.7</td>\n",
              "      <td>394.63</td>\n",
              "      <td>2.94</td>\n",
              "      <td>33.4</td>\n",
              "    </tr>\n",
              "    <tr>\n",
              "      <th>4</th>\n",
              "      <td>0.06905</td>\n",
              "      <td>0.0</td>\n",
              "      <td>2.18</td>\n",
              "      <td>0</td>\n",
              "      <td>0.458</td>\n",
              "      <td>7.147</td>\n",
              "      <td>54.2</td>\n",
              "      <td>6.0622</td>\n",
              "      <td>3</td>\n",
              "      <td>222</td>\n",
              "      <td>18.7</td>\n",
              "      <td>396.90</td>\n",
              "      <td>5.33</td>\n",
              "      <td>36.2</td>\n",
              "    </tr>\n",
              "  </tbody>\n",
              "</table>\n",
              "</div>\n",
              "      <button class=\"colab-df-convert\" onclick=\"convertToInteractive('df-b56cf71e-09ec-4c32-921c-74fcc34d0244')\"\n",
              "              title=\"Convert this dataframe to an interactive table.\"\n",
              "              style=\"display:none;\">\n",
              "        \n",
              "  <svg xmlns=\"http://www.w3.org/2000/svg\" height=\"24px\"viewBox=\"0 0 24 24\"\n",
              "       width=\"24px\">\n",
              "    <path d=\"M0 0h24v24H0V0z\" fill=\"none\"/>\n",
              "    <path d=\"M18.56 5.44l.94 2.06.94-2.06 2.06-.94-2.06-.94-.94-2.06-.94 2.06-2.06.94zm-11 1L8.5 8.5l.94-2.06 2.06-.94-2.06-.94L8.5 2.5l-.94 2.06-2.06.94zm10 10l.94 2.06.94-2.06 2.06-.94-2.06-.94-.94-2.06-.94 2.06-2.06.94z\"/><path d=\"M17.41 7.96l-1.37-1.37c-.4-.4-.92-.59-1.43-.59-.52 0-1.04.2-1.43.59L10.3 9.45l-7.72 7.72c-.78.78-.78 2.05 0 2.83L4 21.41c.39.39.9.59 1.41.59.51 0 1.02-.2 1.41-.59l7.78-7.78 2.81-2.81c.8-.78.8-2.07 0-2.86zM5.41 20L4 18.59l7.72-7.72 1.47 1.35L5.41 20z\"/>\n",
              "  </svg>\n",
              "      </button>\n",
              "      \n",
              "  <style>\n",
              "    .colab-df-container {\n",
              "      display:flex;\n",
              "      flex-wrap:wrap;\n",
              "      gap: 12px;\n",
              "    }\n",
              "\n",
              "    .colab-df-convert {\n",
              "      background-color: #E8F0FE;\n",
              "      border: none;\n",
              "      border-radius: 50%;\n",
              "      cursor: pointer;\n",
              "      display: none;\n",
              "      fill: #1967D2;\n",
              "      height: 32px;\n",
              "      padding: 0 0 0 0;\n",
              "      width: 32px;\n",
              "    }\n",
              "\n",
              "    .colab-df-convert:hover {\n",
              "      background-color: #E2EBFA;\n",
              "      box-shadow: 0px 1px 2px rgba(60, 64, 67, 0.3), 0px 1px 3px 1px rgba(60, 64, 67, 0.15);\n",
              "      fill: #174EA6;\n",
              "    }\n",
              "\n",
              "    [theme=dark] .colab-df-convert {\n",
              "      background-color: #3B4455;\n",
              "      fill: #D2E3FC;\n",
              "    }\n",
              "\n",
              "    [theme=dark] .colab-df-convert:hover {\n",
              "      background-color: #434B5C;\n",
              "      box-shadow: 0px 1px 3px 1px rgba(0, 0, 0, 0.15);\n",
              "      filter: drop-shadow(0px 1px 2px rgba(0, 0, 0, 0.3));\n",
              "      fill: #FFFFFF;\n",
              "    }\n",
              "  </style>\n",
              "\n",
              "      <script>\n",
              "        const buttonEl =\n",
              "          document.querySelector('#df-b56cf71e-09ec-4c32-921c-74fcc34d0244 button.colab-df-convert');\n",
              "        buttonEl.style.display =\n",
              "          google.colab.kernel.accessAllowed ? 'block' : 'none';\n",
              "\n",
              "        async function convertToInteractive(key) {\n",
              "          const element = document.querySelector('#df-b56cf71e-09ec-4c32-921c-74fcc34d0244');\n",
              "          const dataTable =\n",
              "            await google.colab.kernel.invokeFunction('convertToInteractive',\n",
              "                                                     [key], {});\n",
              "          if (!dataTable) return;\n",
              "\n",
              "          const docLinkHtml = 'Like what you see? Visit the ' +\n",
              "            '<a target=\"_blank\" href=https://colab.research.google.com/notebooks/data_table.ipynb>data table notebook</a>'\n",
              "            + ' to learn more about interactive tables.';\n",
              "          element.innerHTML = '';\n",
              "          dataTable['output_type'] = 'display_data';\n",
              "          await google.colab.output.renderOutput(dataTable, element);\n",
              "          const docLink = document.createElement('div');\n",
              "          docLink.innerHTML = docLinkHtml;\n",
              "          element.appendChild(docLink);\n",
              "        }\n",
              "      </script>\n",
              "    </div>\n",
              "  </div>\n",
              "  "
            ],
            "text/plain": [
              "        0     1     2   3      4      5   ...  8    9     10      11    12    13\n",
              "0  0.00632  18.0  2.31   0  0.538  6.575  ...   1  296  15.3  396.90  4.98  24.0\n",
              "1  0.02731   0.0  7.07   0  0.469  6.421  ...   2  242  17.8  396.90  9.14  21.6\n",
              "2  0.02729   0.0  7.07   0  0.469  7.185  ...   2  242  17.8  392.83  4.03  34.7\n",
              "3  0.03237   0.0  2.18   0  0.458  6.998  ...   3  222  18.7  394.63  2.94  33.4\n",
              "4  0.06905   0.0  2.18   0  0.458  7.147  ...   3  222  18.7  396.90  5.33  36.2\n",
              "\n",
              "[5 rows x 14 columns]"
            ]
          },
          "metadata": {},
          "execution_count": 180
        }
      ]
    },
    {
      "cell_type": "code",
      "source": [
        "concrete_df.head()"
      ],
      "metadata": {
        "colab": {
          "base_uri": "https://localhost:8080/",
          "height": 206
        },
        "id": "w-SqGKtVWrGw",
        "outputId": "5c14a0bb-2440-40c5-9d57-9d7f96058894"
      },
      "id": "w-SqGKtVWrGw",
      "execution_count": 181,
      "outputs": [
        {
          "output_type": "execute_result",
          "data": {
            "text/html": [
              "\n",
              "  <div id=\"df-38a25002-e529-4d2f-9268-34ffc936473d\">\n",
              "    <div class=\"colab-df-container\">\n",
              "      <div>\n",
              "<style scoped>\n",
              "    .dataframe tbody tr th:only-of-type {\n",
              "        vertical-align: middle;\n",
              "    }\n",
              "\n",
              "    .dataframe tbody tr th {\n",
              "        vertical-align: top;\n",
              "    }\n",
              "\n",
              "    .dataframe thead th {\n",
              "        text-align: right;\n",
              "    }\n",
              "</style>\n",
              "<table border=\"1\" class=\"dataframe\">\n",
              "  <thead>\n",
              "    <tr style=\"text-align: right;\">\n",
              "      <th></th>\n",
              "      <th>0</th>\n",
              "      <th>1</th>\n",
              "      <th>2</th>\n",
              "      <th>3</th>\n",
              "      <th>4</th>\n",
              "      <th>5</th>\n",
              "      <th>6</th>\n",
              "      <th>7</th>\n",
              "      <th>8</th>\n",
              "    </tr>\n",
              "  </thead>\n",
              "  <tbody>\n",
              "    <tr>\n",
              "      <th>0</th>\n",
              "      <td>540.0</td>\n",
              "      <td>0.0</td>\n",
              "      <td>0.0</td>\n",
              "      <td>162.0</td>\n",
              "      <td>2.5</td>\n",
              "      <td>1040.0</td>\n",
              "      <td>676.0</td>\n",
              "      <td>28</td>\n",
              "      <td>79.99</td>\n",
              "    </tr>\n",
              "    <tr>\n",
              "      <th>1</th>\n",
              "      <td>540.0</td>\n",
              "      <td>0.0</td>\n",
              "      <td>0.0</td>\n",
              "      <td>162.0</td>\n",
              "      <td>2.5</td>\n",
              "      <td>1055.0</td>\n",
              "      <td>676.0</td>\n",
              "      <td>28</td>\n",
              "      <td>61.89</td>\n",
              "    </tr>\n",
              "    <tr>\n",
              "      <th>2</th>\n",
              "      <td>332.5</td>\n",
              "      <td>142.5</td>\n",
              "      <td>0.0</td>\n",
              "      <td>228.0</td>\n",
              "      <td>0.0</td>\n",
              "      <td>932.0</td>\n",
              "      <td>594.0</td>\n",
              "      <td>270</td>\n",
              "      <td>40.27</td>\n",
              "    </tr>\n",
              "    <tr>\n",
              "      <th>3</th>\n",
              "      <td>332.5</td>\n",
              "      <td>142.5</td>\n",
              "      <td>0.0</td>\n",
              "      <td>228.0</td>\n",
              "      <td>0.0</td>\n",
              "      <td>932.0</td>\n",
              "      <td>594.0</td>\n",
              "      <td>365</td>\n",
              "      <td>41.05</td>\n",
              "    </tr>\n",
              "    <tr>\n",
              "      <th>4</th>\n",
              "      <td>198.6</td>\n",
              "      <td>132.4</td>\n",
              "      <td>0.0</td>\n",
              "      <td>192.0</td>\n",
              "      <td>0.0</td>\n",
              "      <td>978.4</td>\n",
              "      <td>825.5</td>\n",
              "      <td>360</td>\n",
              "      <td>44.30</td>\n",
              "    </tr>\n",
              "  </tbody>\n",
              "</table>\n",
              "</div>\n",
              "      <button class=\"colab-df-convert\" onclick=\"convertToInteractive('df-38a25002-e529-4d2f-9268-34ffc936473d')\"\n",
              "              title=\"Convert this dataframe to an interactive table.\"\n",
              "              style=\"display:none;\">\n",
              "        \n",
              "  <svg xmlns=\"http://www.w3.org/2000/svg\" height=\"24px\"viewBox=\"0 0 24 24\"\n",
              "       width=\"24px\">\n",
              "    <path d=\"M0 0h24v24H0V0z\" fill=\"none\"/>\n",
              "    <path d=\"M18.56 5.44l.94 2.06.94-2.06 2.06-.94-2.06-.94-.94-2.06-.94 2.06-2.06.94zm-11 1L8.5 8.5l.94-2.06 2.06-.94-2.06-.94L8.5 2.5l-.94 2.06-2.06.94zm10 10l.94 2.06.94-2.06 2.06-.94-2.06-.94-.94-2.06-.94 2.06-2.06.94z\"/><path d=\"M17.41 7.96l-1.37-1.37c-.4-.4-.92-.59-1.43-.59-.52 0-1.04.2-1.43.59L10.3 9.45l-7.72 7.72c-.78.78-.78 2.05 0 2.83L4 21.41c.39.39.9.59 1.41.59.51 0 1.02-.2 1.41-.59l7.78-7.78 2.81-2.81c.8-.78.8-2.07 0-2.86zM5.41 20L4 18.59l7.72-7.72 1.47 1.35L5.41 20z\"/>\n",
              "  </svg>\n",
              "      </button>\n",
              "      \n",
              "  <style>\n",
              "    .colab-df-container {\n",
              "      display:flex;\n",
              "      flex-wrap:wrap;\n",
              "      gap: 12px;\n",
              "    }\n",
              "\n",
              "    .colab-df-convert {\n",
              "      background-color: #E8F0FE;\n",
              "      border: none;\n",
              "      border-radius: 50%;\n",
              "      cursor: pointer;\n",
              "      display: none;\n",
              "      fill: #1967D2;\n",
              "      height: 32px;\n",
              "      padding: 0 0 0 0;\n",
              "      width: 32px;\n",
              "    }\n",
              "\n",
              "    .colab-df-convert:hover {\n",
              "      background-color: #E2EBFA;\n",
              "      box-shadow: 0px 1px 2px rgba(60, 64, 67, 0.3), 0px 1px 3px 1px rgba(60, 64, 67, 0.15);\n",
              "      fill: #174EA6;\n",
              "    }\n",
              "\n",
              "    [theme=dark] .colab-df-convert {\n",
              "      background-color: #3B4455;\n",
              "      fill: #D2E3FC;\n",
              "    }\n",
              "\n",
              "    [theme=dark] .colab-df-convert:hover {\n",
              "      background-color: #434B5C;\n",
              "      box-shadow: 0px 1px 3px 1px rgba(0, 0, 0, 0.15);\n",
              "      filter: drop-shadow(0px 1px 2px rgba(0, 0, 0, 0.3));\n",
              "      fill: #FFFFFF;\n",
              "    }\n",
              "  </style>\n",
              "\n",
              "      <script>\n",
              "        const buttonEl =\n",
              "          document.querySelector('#df-38a25002-e529-4d2f-9268-34ffc936473d button.colab-df-convert');\n",
              "        buttonEl.style.display =\n",
              "          google.colab.kernel.accessAllowed ? 'block' : 'none';\n",
              "\n",
              "        async function convertToInteractive(key) {\n",
              "          const element = document.querySelector('#df-38a25002-e529-4d2f-9268-34ffc936473d');\n",
              "          const dataTable =\n",
              "            await google.colab.kernel.invokeFunction('convertToInteractive',\n",
              "                                                     [key], {});\n",
              "          if (!dataTable) return;\n",
              "\n",
              "          const docLinkHtml = 'Like what you see? Visit the ' +\n",
              "            '<a target=\"_blank\" href=https://colab.research.google.com/notebooks/data_table.ipynb>data table notebook</a>'\n",
              "            + ' to learn more about interactive tables.';\n",
              "          element.innerHTML = '';\n",
              "          dataTable['output_type'] = 'display_data';\n",
              "          await google.colab.output.renderOutput(dataTable, element);\n",
              "          const docLink = document.createElement('div');\n",
              "          docLink.innerHTML = docLinkHtml;\n",
              "          element.appendChild(docLink);\n",
              "        }\n",
              "      </script>\n",
              "    </div>\n",
              "  </div>\n",
              "  "
            ],
            "text/plain": [
              "       0      1    2      3    4       5      6    7      8\n",
              "0  540.0    0.0  0.0  162.0  2.5  1040.0  676.0   28  79.99\n",
              "1  540.0    0.0  0.0  162.0  2.5  1055.0  676.0   28  61.89\n",
              "2  332.5  142.5  0.0  228.0  0.0   932.0  594.0  270  40.27\n",
              "3  332.5  142.5  0.0  228.0  0.0   932.0  594.0  365  41.05\n",
              "4  198.6  132.4  0.0  192.0  0.0   978.4  825.5  360  44.30"
            ]
          },
          "metadata": {},
          "execution_count": 181
        }
      ]
    },
    {
      "cell_type": "code",
      "source": [
        "yatch_df.head()"
      ],
      "metadata": {
        "colab": {
          "base_uri": "https://localhost:8080/",
          "height": 206
        },
        "id": "5AViCWv4WtQB",
        "outputId": "d82061e2-21bf-454a-9599-fe80b7a69e41"
      },
      "id": "5AViCWv4WtQB",
      "execution_count": 182,
      "outputs": [
        {
          "output_type": "execute_result",
          "data": {
            "text/html": [
              "\n",
              "  <div id=\"df-8b3144d9-37e2-40f7-a67d-7850a08f4678\">\n",
              "    <div class=\"colab-df-container\">\n",
              "      <div>\n",
              "<style scoped>\n",
              "    .dataframe tbody tr th:only-of-type {\n",
              "        vertical-align: middle;\n",
              "    }\n",
              "\n",
              "    .dataframe tbody tr th {\n",
              "        vertical-align: top;\n",
              "    }\n",
              "\n",
              "    .dataframe thead th {\n",
              "        text-align: right;\n",
              "    }\n",
              "</style>\n",
              "<table border=\"1\" class=\"dataframe\">\n",
              "  <thead>\n",
              "    <tr style=\"text-align: right;\">\n",
              "      <th></th>\n",
              "      <th>0</th>\n",
              "      <th>1</th>\n",
              "      <th>2</th>\n",
              "      <th>3</th>\n",
              "      <th>4</th>\n",
              "      <th>5</th>\n",
              "      <th>6</th>\n",
              "    </tr>\n",
              "  </thead>\n",
              "  <tbody>\n",
              "    <tr>\n",
              "      <th>0</th>\n",
              "      <td>-2.3</td>\n",
              "      <td>0.568</td>\n",
              "      <td>4.78</td>\n",
              "      <td>3.99</td>\n",
              "      <td>3.17</td>\n",
              "      <td>0.125</td>\n",
              "      <td>0.11</td>\n",
              "    </tr>\n",
              "    <tr>\n",
              "      <th>1</th>\n",
              "      <td>-2.3</td>\n",
              "      <td>0.568</td>\n",
              "      <td>4.78</td>\n",
              "      <td>3.99</td>\n",
              "      <td>3.17</td>\n",
              "      <td>0.150</td>\n",
              "      <td>0.27</td>\n",
              "    </tr>\n",
              "    <tr>\n",
              "      <th>2</th>\n",
              "      <td>-2.3</td>\n",
              "      <td>0.568</td>\n",
              "      <td>4.78</td>\n",
              "      <td>3.99</td>\n",
              "      <td>3.17</td>\n",
              "      <td>0.175</td>\n",
              "      <td>0.47</td>\n",
              "    </tr>\n",
              "    <tr>\n",
              "      <th>3</th>\n",
              "      <td>-2.3</td>\n",
              "      <td>0.568</td>\n",
              "      <td>4.78</td>\n",
              "      <td>3.99</td>\n",
              "      <td>3.17</td>\n",
              "      <td>0.200</td>\n",
              "      <td>0.78</td>\n",
              "    </tr>\n",
              "    <tr>\n",
              "      <th>4</th>\n",
              "      <td>-2.3</td>\n",
              "      <td>0.568</td>\n",
              "      <td>4.78</td>\n",
              "      <td>3.99</td>\n",
              "      <td>3.17</td>\n",
              "      <td>0.225</td>\n",
              "      <td>1.18</td>\n",
              "    </tr>\n",
              "  </tbody>\n",
              "</table>\n",
              "</div>\n",
              "      <button class=\"colab-df-convert\" onclick=\"convertToInteractive('df-8b3144d9-37e2-40f7-a67d-7850a08f4678')\"\n",
              "              title=\"Convert this dataframe to an interactive table.\"\n",
              "              style=\"display:none;\">\n",
              "        \n",
              "  <svg xmlns=\"http://www.w3.org/2000/svg\" height=\"24px\"viewBox=\"0 0 24 24\"\n",
              "       width=\"24px\">\n",
              "    <path d=\"M0 0h24v24H0V0z\" fill=\"none\"/>\n",
              "    <path d=\"M18.56 5.44l.94 2.06.94-2.06 2.06-.94-2.06-.94-.94-2.06-.94 2.06-2.06.94zm-11 1L8.5 8.5l.94-2.06 2.06-.94-2.06-.94L8.5 2.5l-.94 2.06-2.06.94zm10 10l.94 2.06.94-2.06 2.06-.94-2.06-.94-.94-2.06-.94 2.06-2.06.94z\"/><path d=\"M17.41 7.96l-1.37-1.37c-.4-.4-.92-.59-1.43-.59-.52 0-1.04.2-1.43.59L10.3 9.45l-7.72 7.72c-.78.78-.78 2.05 0 2.83L4 21.41c.39.39.9.59 1.41.59.51 0 1.02-.2 1.41-.59l7.78-7.78 2.81-2.81c.8-.78.8-2.07 0-2.86zM5.41 20L4 18.59l7.72-7.72 1.47 1.35L5.41 20z\"/>\n",
              "  </svg>\n",
              "      </button>\n",
              "      \n",
              "  <style>\n",
              "    .colab-df-container {\n",
              "      display:flex;\n",
              "      flex-wrap:wrap;\n",
              "      gap: 12px;\n",
              "    }\n",
              "\n",
              "    .colab-df-convert {\n",
              "      background-color: #E8F0FE;\n",
              "      border: none;\n",
              "      border-radius: 50%;\n",
              "      cursor: pointer;\n",
              "      display: none;\n",
              "      fill: #1967D2;\n",
              "      height: 32px;\n",
              "      padding: 0 0 0 0;\n",
              "      width: 32px;\n",
              "    }\n",
              "\n",
              "    .colab-df-convert:hover {\n",
              "      background-color: #E2EBFA;\n",
              "      box-shadow: 0px 1px 2px rgba(60, 64, 67, 0.3), 0px 1px 3px 1px rgba(60, 64, 67, 0.15);\n",
              "      fill: #174EA6;\n",
              "    }\n",
              "\n",
              "    [theme=dark] .colab-df-convert {\n",
              "      background-color: #3B4455;\n",
              "      fill: #D2E3FC;\n",
              "    }\n",
              "\n",
              "    [theme=dark] .colab-df-convert:hover {\n",
              "      background-color: #434B5C;\n",
              "      box-shadow: 0px 1px 3px 1px rgba(0, 0, 0, 0.15);\n",
              "      filter: drop-shadow(0px 1px 2px rgba(0, 0, 0, 0.3));\n",
              "      fill: #FFFFFF;\n",
              "    }\n",
              "  </style>\n",
              "\n",
              "      <script>\n",
              "        const buttonEl =\n",
              "          document.querySelector('#df-8b3144d9-37e2-40f7-a67d-7850a08f4678 button.colab-df-convert');\n",
              "        buttonEl.style.display =\n",
              "          google.colab.kernel.accessAllowed ? 'block' : 'none';\n",
              "\n",
              "        async function convertToInteractive(key) {\n",
              "          const element = document.querySelector('#df-8b3144d9-37e2-40f7-a67d-7850a08f4678');\n",
              "          const dataTable =\n",
              "            await google.colab.kernel.invokeFunction('convertToInteractive',\n",
              "                                                     [key], {});\n",
              "          if (!dataTable) return;\n",
              "\n",
              "          const docLinkHtml = 'Like what you see? Visit the ' +\n",
              "            '<a target=\"_blank\" href=https://colab.research.google.com/notebooks/data_table.ipynb>data table notebook</a>'\n",
              "            + ' to learn more about interactive tables.';\n",
              "          element.innerHTML = '';\n",
              "          dataTable['output_type'] = 'display_data';\n",
              "          await google.colab.output.renderOutput(dataTable, element);\n",
              "          const docLink = document.createElement('div');\n",
              "          docLink.innerHTML = docLinkHtml;\n",
              "          element.appendChild(docLink);\n",
              "        }\n",
              "      </script>\n",
              "    </div>\n",
              "  </div>\n",
              "  "
            ],
            "text/plain": [
              "     0      1     2     3     4      5     6\n",
              "0 -2.3  0.568  4.78  3.99  3.17  0.125  0.11\n",
              "1 -2.3  0.568  4.78  3.99  3.17  0.150  0.27\n",
              "2 -2.3  0.568  4.78  3.99  3.17  0.175  0.47\n",
              "3 -2.3  0.568  4.78  3.99  3.17  0.200  0.78\n",
              "4 -2.3  0.568  4.78  3.99  3.17  0.225  1.18"
            ]
          },
          "metadata": {},
          "execution_count": 182
        }
      ]
    },
    {
      "cell_type": "code",
      "execution_count": 213,
      "id": "0c1f786e-ebc8-4451-9eb0-7e0a67ca9daf",
      "metadata": {
        "id": "0c1f786e-ebc8-4451-9eb0-7e0a67ca9daf"
      },
      "outputs": [],
      "source": [
        "\n",
        "class LinearRegression:\n",
        "    def __init__(self,\n",
        "                 X,\n",
        "                 y, learningRate,\n",
        "                 tolerance,\n",
        "                 maxIteration,\n",
        "                 gd=False,\n",
        "                 stochastic=False,\n",
        "                 reg=False,\n",
        "                 batch_size=100,\n",
        "                 alpha=1.0) -> None:\n",
        "        self.X = X\n",
        "        self.y = y\n",
        "        self.tolerance = tolerance\n",
        "        self.learningRate = learningRate\n",
        "        self.maxIteration = maxIteration\n",
        "        self.gd = gd\n",
        "        self.stochastic = stochastic\n",
        "        self.reg = reg\n",
        "        self.batch_size = batch_size\n",
        "        self.alpha = alpha\n",
        "\n",
        "    def splitTrainTest(self):\n",
        "        X_train, X_test, y_train, y_test = train_test_split(self.X, self.y,\n",
        "                                                            test_size=0.3,\n",
        "                                                            random_state=1)\n",
        "        return (X_train, X_test, y_train, y_test)\n",
        "\n",
        "    def add_X0(self, X):\n",
        "        return np.column_stack([np.ones([X.shape[0], 1]), X])\n",
        "\n",
        "    def normalize(self, X):\n",
        "        mean = np.mean(X, 0)\n",
        "        std = np.std(X, 0)\n",
        "        X_norm = (X - mean) / std\n",
        "        X_norm = self.add_X0(X_norm)\n",
        "        return X_norm, mean, std\n",
        "\n",
        "    def normalizetestdata(self, X, meanTrain, stdTrain):\n",
        "        return (X - meanTrain) / stdTrain\n",
        "\n",
        "    def l2_regularization(self, w):\n",
        "        \"\"\"Calculate regularization term.\"\"\"\n",
        "        return self.alpha * 0.5 * np.linalg.norm(w, 2)\n",
        "\n",
        "    def grad_reg_term(self, w):\n",
        "        gradient_penalty = np.asarray(self.alpha) * w\n",
        "        # Insert 0 for bias term.\n",
        "        return np.insert(gradient_penalty, 0, 0, axis=0)\n",
        "\n",
        "    def checkMatrix(self, X):\n",
        "        X_rank = np.linalg.matrix_rank(X)\n",
        "\n",
        "        if X_rank == min(X.shape[0], X.shape[1]):\n",
        "            self.fullRank = True\n",
        "            print('data is full rank')\n",
        "        else:\n",
        "            self.fullRank = False\n",
        "            print('data is not full rank')\n",
        "\n",
        "    def checkInvertibility(self, X):\n",
        "        if X.shape[0] < X.shape[1]:\n",
        "            self.lowRank = True\n",
        "        else:\n",
        "            self.lowrank = False\n",
        "\n",
        "    def closedFormSolution(self, X, y):\n",
        "        w = np.linalg.inv(X.T.dot(X)).dot(X.T).dot(y)\n",
        "        return w\n",
        "\n",
        "    def sgd_sample(self, X, y):\n",
        "\n",
        "        n_obs = X.shape[0]\n",
        "\n",
        "        xy = np.c_[X.reshape(n_obs, -1), y.reshape(n_obs, 1)]\n",
        "\n",
        "        # Initializing the random number generator\n",
        "        # seed = None if random_state is None else int(random_state)\n",
        "        rng = np.random.default_rng(seed=None)\n",
        "\n",
        "        rng.shuffle(xy)\n",
        "        if not 0 < self.batch_size <= n_obs:\n",
        "            raise ValueError(\n",
        "                f\"'batch_size' must be greater than zero and less than or equal to the number of observations: {n_obs}\")\n",
        "        start = random.randint(0, n_obs - self.batch_size)\n",
        "\n",
        "        stop = start + self.batch_size\n",
        "        x_batch, y_batch = xy[start:stop, :-1], xy[start:stop, -1:]\n",
        "        y_batch = y_batch.reshape(-1)\n",
        "\n",
        "        return x_batch, y_batch\n",
        "\n",
        "    def gradientDescent(self, X, y):\n",
        "\n",
        "        self.errors = []\n",
        "\n",
        "        lastError = float('inf')\n",
        "\n",
        "        if self.stochastic:\n",
        "            print(\"solving using stochastic gradient descent\")\n",
        "        else:\n",
        "            print(\"solving using gradient descent\")\n",
        "        gradient_reg = 0\n",
        "        regularization = 0\n",
        "        for t in tqdm(range(self.maxIteration)):\n",
        "            if self.stochastic:\n",
        "                X_batch, y_batch = self.sgd_sample(X, y)\n",
        "            else:\n",
        "                X_batch, y_batch = X, y\n",
        "\n",
        "            if self.reg:\n",
        "                gradient_reg = self.grad_reg_term(self.w[1:])\n",
        "                regularization = self.l2_regularization(self.w[1:])\n",
        "\n",
        "            self.w = self.w - self.learningRate * (self.costDerivation(X_batch, y_batch) + gradient_reg)\n",
        "\n",
        "            # cur= self.sse(X_batch,y_batch) + regularization\n",
        "            cur = self.rmse(X_batch, y_batch) + regularization\n",
        "\n",
        "            diff = lastError - cur\n",
        "            lastError = cur\n",
        "            self.errors.append(cur)\n",
        "\n",
        "            if abs(diff) < self.tolerance:\n",
        "                print(\"The model stopped and no further improvement\")\n",
        "                break\n",
        "        self.plot_cost(self.errors)\n",
        "\n",
        "    def predict(self, X):\n",
        "        return X.dot(self.w)\n",
        "\n",
        "    def sse(self, X, y):\n",
        "        y_hat = self.predict(X)\n",
        "        return ((y_hat - y) ** 2).sum()\n",
        "\n",
        "    def rmse(self, X, y):\n",
        "        n = X.shape[0]\n",
        "        return np.sqrt(self.sse(X, y) / n)\n",
        "\n",
        "    def costFunction(self, X, y):\n",
        "        return self.sse(X, y) / 2\n",
        "\n",
        "    def costDerivation(self, X, y):\n",
        "        y_hat = self.predict(X)\n",
        "        return (y_hat - y).dot(X)\n",
        "\n",
        "    def plot_cost(self, cost_sequence):\n",
        "        # Data for plotting\n",
        "        s = np.array(cost_sequence)\n",
        "        t = np.arange(s.size)\n",
        "\n",
        "        fig, ax = plt.subplots()\n",
        "        ax.plot(t, s)\n",
        "\n",
        "        ax.set(xlabel='iterations', ylabel='cost',\n",
        "               title='cost trend')\n",
        "        ax.grid()\n",
        "\n",
        "        plt.legend(bbox_to_anchor=(1.05, 1), loc=2, shadow=True)\n",
        "        plt.show()\n",
        "\n",
        "    def fit(self):\n",
        "\n",
        "        self.X_train, self.X_test, self.y_train, self.y_test = self.splitTrainTest()\n",
        "\n",
        "        # normalize the data\n",
        "        self.X_train, meanTrain, stdTrain = self.normalize(self.X_train)\n",
        "        self.X_test = self.normalizetestdata(self.X_test, meanTrain, stdTrain)\n",
        "\n",
        "        self.checkInvertibility(self.X_train)\n",
        "        self.checkMatrix(self.X_train)\n",
        "\n",
        "        if self.fullRank and not self.lowrank and not self.gd:\n",
        "            print(\"Solving using Normal equation - closed form solution\")\n",
        "            self.w = self.closedFormSolution(self.X_train, self.y_train)\n",
        "\n",
        "        else:\n",
        "            self.w = np.ones(self.X_train.shape[1], dtype=np.float64) * 0\n",
        "            self.gradientDescent(self.X_train, self.y_train)\n",
        "\n",
        "            print(self.w)\n"
      ]
    },
    {
      "cell_type": "code",
      "source": [
        "regression = LinearRegression(housing_df.values[:,0:-1],\n",
        "                              housing_df.values[:, -1],\n",
        "                              learningRate= 0.000001,\n",
        "                              tolerance= 0.000005,\n",
        "                              maxIteration= 10000,\n",
        "                              gd= True, \n",
        "                              stochastic = False, \n",
        "                              batch_size = 200)"
      ],
      "metadata": {
        "id": "o9U8fRT_Oktx"
      },
      "id": "o9U8fRT_Oktx",
      "execution_count": 190,
      "outputs": []
    },
    {
      "cell_type": "code",
      "source": [
        "regression.fit()"
      ],
      "metadata": {
        "colab": {
          "base_uri": "https://localhost:8080/",
          "height": 420
        },
        "id": "NW0fISAkOnqM",
        "outputId": "06fcfce7-627b-45d1-9c28-54cb03f572ac"
      },
      "id": "NW0fISAkOnqM",
      "execution_count": 191,
      "outputs": [
        {
          "output_type": "stream",
          "name": "stdout",
          "text": [
            "data is full rank\n",
            "solving using gradient descent\n"
          ]
        },
        {
          "output_type": "stream",
          "name": "stderr",
          "text": [
            "100%|██████████| 10000/10000 [00:00<00:00, 36215.64it/s]\n",
            "No handles with labels found to put in legend.\n"
          ]
        },
        {
          "output_type": "display_data",
          "data": {
            "image/png": "[encoded data removed]",
            "text/plain": [
              "<Figure size 432x288 with 1 Axes>"
            ]
          },
          "metadata": {
            "needs_background": "light"
          }
        },
        {
          "output_type": "stream",
          "name": "stdout",
          "text": [
            "[21.69208379 -0.53296158  0.58086911 -0.26314026  0.82535902 -1.02627628\n",
            "  2.62500212 -0.26331705 -1.71643781  0.65034604 -0.20749066 -1.88575757\n",
            "  0.68446014 -3.4639267 ]\n"
          ]
        }
      ]
    },
    {
      "cell_type": "code",
      "execution_count": 192,
      "id": "9a890ad8-7539-4a34-917c-20f33d402cea",
      "metadata": {
        "id": "9a890ad8-7539-4a34-917c-20f33d402cea"
      },
      "outputs": [],
      "source": [
        "regression = LinearRegression(concrete_df.values[:,0:-1],\n",
        "                              concrete_df.values[:, -1],\n",
        "                              learningRate= 0.000001,\n",
        "                              tolerance= 0.000005,\n",
        "                              maxIteration= 10000,\n",
        "                              gd= True, \n",
        "                              stochastic = True, \n",
        "                              batch_size = 200)"
      ]
    },
    {
      "cell_type": "code",
      "source": [
        "regression.fit()"
      ],
      "metadata": {
        "colab": {
          "base_uri": "https://localhost:8080/",
          "height": 402
        },
        "id": "z7Mo1kPz4FSY",
        "outputId": "7898522a-358b-4395-d0fc-22f78ec5176a"
      },
      "id": "z7Mo1kPz4FSY",
      "execution_count": 193,
      "outputs": [
        {
          "output_type": "stream",
          "name": "stdout",
          "text": [
            "data is full rank\n",
            "solving using stochastic gradient descent\n"
          ]
        },
        {
          "output_type": "stream",
          "name": "stderr",
          "text": [
            "100%|██████████| 10000/10000 [00:13<00:00, 727.69it/s]\n",
            "No handles with labels found to put in legend.\n"
          ]
        },
        {
          "output_type": "display_data",
          "data": {
            "image/png": "[encoded data removed]",
            "text/plain": [
              "<Figure size 432x288 with 1 Axes>"
            ]
          },
          "metadata": {
            "needs_background": "light"
          }
        },
        {
          "output_type": "stream",
          "name": "stdout",
          "text": [
            "[30.88212052  6.63912813  2.64535829 -0.52322928 -4.58741515  4.09306688\n",
            " -1.71504661 -2.46114326  5.8562957 ]\n"
          ]
        }
      ]
    },
    {
      "cell_type": "code",
      "source": [
        "regression = LinearRegression(yatch_df.values[:,0:-1],\n",
        "                              yatch_df.values[:, -1],\n",
        "                              learningRate= 0.000001,\n",
        "                              tolerance= 0.000005,\n",
        "                              maxIteration= 10000,\n",
        "                              gd= True, \n",
        "                              stochastic = True, \n",
        "                              reg=True,\n",
        "                              batch_size = 200)"
      ],
      "metadata": {
        "id": "IoxKdsCYT_vY"
      },
      "id": "IoxKdsCYT_vY",
      "execution_count": 194,
      "outputs": []
    },
    {
      "cell_type": "code",
      "source": [
        "regression.fit()"
      ],
      "metadata": {
        "colab": {
          "base_uri": "https://localhost:8080/",
          "height": 420
        },
        "id": "saWIyy4KUDzK",
        "outputId": "13dbaa5f-a492-4183-d934-e3055e365267"
      },
      "id": "saWIyy4KUDzK",
      "execution_count": 195,
      "outputs": [
        {
          "output_type": "stream",
          "name": "stdout",
          "text": [
            "data is full rank\n",
            "solving using stochastic gradient descent\n"
          ]
        },
        {
          "output_type": "stream",
          "name": "stderr",
          "text": [
            " 21%|██        | 2106/10000 [00:01<00:04, 1894.30it/s]\n",
            "No handles with labels found to put in legend.\n"
          ]
        },
        {
          "output_type": "stream",
          "name": "stdout",
          "text": [
            "The model stopped and no further improvement\n"
          ]
        },
        {
          "output_type": "display_data",
          "data": {
            "image/png": "[encoded data removed]",
            "text/plain": [
              "<Figure size 432x288 with 1 Axes>"
            ]
          },
          "metadata": {
            "needs_background": "light"
          }
        },
        {
          "output_type": "stream",
          "name": "stdout",
          "text": [
            "[ 3.6064658  -0.02333945 -0.16788319  0.04366242  0.00880537 -0.03144766\n",
            "  4.32421427]\n"
          ]
        }
      ]
    },
    {
      "cell_type": "code",
      "source": [
        "datasets = [\n",
        "    {\n",
        "        'name': 'housing',\n",
        "        'kwargs': {\n",
        "            'X': housing_df.values[:, 0:-1],\n",
        "            'y': housing_df.values[:, -1],\n",
        "            'learningRate': 0.0004,\n",
        "            'tolerance': 0.005,\n",
        "            'maxIteration': 50000,\n",
        "            'gd': True,\n",
        "            'stochastic': True,\n",
        "            'reg': True,\n",
        "            'batch_size': 100,\n",
        "            'alpha': 1.0\n",
        "        }\n",
        "    },\n",
        "    {\n",
        "        'name': 'concrete',\n",
        "        'kwargs': {\n",
        "            'X': concrete_df.values[:, 0:-1],\n",
        "            'y': concrete_df.values[:, -1],\n",
        "            'learningRate': 0.0007,\n",
        "            'tolerance': 0.0001,\n",
        "            'maxIteration': 10000,\n",
        "            'gd': True,\n",
        "            'stochastic': True,\n",
        "            'reg': True,\n",
        "            'batch_size': 100,\n",
        "            'alpha': 1.0\n",
        "        }\n",
        "    },\n",
        "    {\n",
        "        'name': 'yatch',\n",
        "        'kwargs': {\n",
        "            'X': yatch_df.values[:, 0:-1],\n",
        "            'y': yatch_df.values[:, -1],\n",
        "            'learningRate': 0.001,\n",
        "            'tolerance': 0.001,\n",
        "            'maxIteration': 50000,\n",
        "            'gd': True,\n",
        "            'stochastic': True,\n",
        "            'reg': True,\n",
        "            'batch_size': 100,\n",
        "            'alpha': 1.0\n",
        "        }\n",
        "    }\n",
        "]\n",
        "\n",
        "for d in datasets:\n",
        "    print(f\"Running Model on dataset: {d['name']}\")\n",
        "    model = LinearRegression(**d['kwargs'])\n",
        "    model.fit()\n"
      ],
      "metadata": {
        "colab": {
          "base_uri": "https://localhost:8080/",
          "height": 1000
        },
        "id": "w17ZRYn5XuFv",
        "outputId": "0b3ec110-fcf8-4798-c10a-bac3e2e98ebc"
      },
      "id": "w17ZRYn5XuFv",
      "execution_count": 215,
      "outputs": [
        {
          "output_type": "stream",
          "name": "stdout",
          "text": [
            "Running Model on dataset: housing\n",
            "data is full rank\n",
            "solving using stochastic gradient descent\n"
          ]
        },
        {
          "output_type": "stream",
          "name": "stderr",
          "text": [
            "  0%|          | 37/50000 [00:00<00:47, 1061.45it/s]\n",
            "No handles with labels found to put in legend.\n"
          ]
        },
        {
          "output_type": "stream",
          "name": "stdout",
          "text": [
            "The model stopped and no further improvement\n"
          ]
        },
        {
          "output_type": "display_data",
          "data": {
            "image/png": "[encoded data removed]",
            "text/plain": [
              "<Figure size 432x288 with 1 Axes>"
            ]
          },
          "metadata": {
            "needs_background": "light"
          }
        },
        {
          "output_type": "stream",
          "name": "stdout",
          "text": [
            "[17.7252464  -0.71259459  0.48089837 -0.35988242  0.97895094 -0.59723531\n",
            "  2.66161812 -0.1456942  -0.84320437  0.36966395 -0.13669893 -1.66821493\n",
            "  0.61704637 -2.86776081]\n",
            "Running Model on dataset: concrete\n",
            "data is full rank\n",
            "solving using stochastic gradient descent\n"
          ]
        },
        {
          "output_type": "stream",
          "name": "stderr",
          "text": [
            "100%|██████████| 10000/10000 [00:14<00:00, 695.68it/s]\n",
            "No handles with labels found to put in legend.\n"
          ]
        },
        {
          "output_type": "display_data",
          "data": {
            "image/png": "[encoded data removed]",
            "text/plain": [
              "<Figure size 432x288 with 1 Axes>"
            ]
          },
          "metadata": {
            "needs_background": "light"
          }
        },
        {
          "output_type": "stream",
          "name": "stdout",
          "text": [
            "[35.71826693 11.5186439   7.43427095  4.69537686 -3.8081504   2.14565657\n",
            "  0.25453309 -0.15975132  6.52700002]\n",
            "Running Model on dataset: yatch\n",
            "data is full rank\n",
            "solving using stochastic gradient descent\n"
          ]
        },
        {
          "output_type": "stream",
          "name": "stderr",
          "text": [
            "  1%|          | 285/50000 [00:00<00:27, 1778.31it/s]\n",
            "No handles with labels found to put in legend.\n"
          ]
        },
        {
          "output_type": "stream",
          "name": "stdout",
          "text": [
            "The model stopped and no further improvement\n"
          ]
        },
        {
          "output_type": "display_data",
          "data": {
            "image/png": "[encoded data removed]",
            "text/plain": [
              "<Figure size 432x288 with 1 Axes>"
            ]
          },
          "metadata": {
            "needs_background": "light"
          }
        },
        {
          "output_type": "stream",
          "name": "stdout",
          "text": [
            "[10.26268667  0.13094713 -0.75590627  0.94323701 -0.29714082 -0.82708086\n",
            " 11.61694462]\n"
          ]
        }
      ]
    }
  ],
  "metadata": {
    "kernelspec": {
      "display_name": "Python 3 (ipykernel)",
      "language": "python",
      "name": "python3"
    },
    "language_info": {
      "codemirror_mode": {
        "name": "ipython",
        "version": 3
      },
      "file_extension": ".py",
      "mimetype": "text/x-python",
      "name": "python",
      "nbconvert_exporter": "python",
      "pygments_lexer": "ipython3",
      "version": "3.9.7"
    },
    "colab": {
      "name": "ML - LinearRegression.ipynb",
      "provenance": [],
      "collapsed_sections": [],
      "include_colab_link": true
    }
  },
  "nbformat": 4,
  "nbformat_minor": 5
}